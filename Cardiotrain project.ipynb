{
 "cells": [
  {
   "cell_type": "markdown",
   "metadata": {},
   "source": [
    "# Cardiotrain project\n",
    "- Dataset: https://www.kaggle.com/sulianova/cardiovascular-disease-dataset\n",
    "- EDA\n",
    "- Data Mining\n",
    "    - FP Growth\n",
    "    - Random Forest Permutation importances   \n",
    "- Modeling\n",
    "    - 10 fold cross validation\n",
    "    - SVM\n",
    "    - some experimenting with GridSearchCV"
   ]
  },
  {
   "cell_type": "code",
   "execution_count": 1,
   "metadata": {},
   "outputs": [],
   "source": [
    "import numpy as np\n",
    "import pandas as pd\n",
    "#!pip install seaborn==0.11.0\n",
    "import seaborn as sns\n",
    "import pyfpgrowth\n",
    "import matplotlib.pyplot as plt\n",
    "from random import sample\n",
    "\n",
    "sns.set_style(\"whitegrid\")"
   ]
  },
  {
   "cell_type": "code",
   "execution_count": 2,
   "metadata": {},
   "outputs": [],
   "source": [
    "df = pd.read_csv('C:/Users/Ramello/Documents/CIND840/cardio_train.csv', sep = ';')\n",
    "backup = df.copy()"
   ]
  },
  {
   "cell_type": "markdown",
   "metadata": {},
   "source": [
    "## Data dictionary\n",
    "- Age | Objective Feature | age | int (days) \n",
    "- Height | Objective Feature | height | int (cm) |\n",
    "- Weight | Objective Feature | weight | float (kg) |\n",
    "- Gender | Objective Feature | gender | categorical code |\n",
    "- Systolic blood pressure | Examination Feature | ap_hi | int |\n",
    "- Diastolic blood pressure | Examination Feature | ap_lo | int |\n",
    "- Cholesterol | Examination Feature | cholesterol | 1: normal, 2: above normal, 3: well above normal |\n",
    "- Glucose | Examination Feature | gluc | 1: normal, 2: above normal, 3: well above normal |\n",
    "- Smoking | Subjective Feature | smoke | binary |\n",
    "- Alcohol intake | Subjective Feature | alco | binary |\n",
    "- Physical activity | Subjective Feature | active | binary |\n",
    "- Presence or absence of cardiovascular disease | Target Variable | cardio | binary |\n"
   ]
  },
  {
   "cell_type": "markdown",
   "metadata": {},
   "source": [
    "# Data Cleaning"
   ]
  },
  {
   "cell_type": "code",
   "execution_count": 3,
   "metadata": {},
   "outputs": [
    {
     "data": {
      "text/html": [
       "<div>\n",
       "<style scoped>\n",
       "    .dataframe tbody tr th:only-of-type {\n",
       "        vertical-align: middle;\n",
       "    }\n",
       "\n",
       "    .dataframe tbody tr th {\n",
       "        vertical-align: top;\n",
       "    }\n",
       "\n",
       "    .dataframe thead th {\n",
       "        text-align: right;\n",
       "    }\n",
       "</style>\n",
       "<table border=\"1\" class=\"dataframe\">\n",
       "  <thead>\n",
       "    <tr style=\"text-align: right;\">\n",
       "      <th></th>\n",
       "      <th>id</th>\n",
       "      <th>age</th>\n",
       "      <th>gender</th>\n",
       "      <th>height</th>\n",
       "      <th>weight</th>\n",
       "      <th>ap_hi</th>\n",
       "      <th>ap_lo</th>\n",
       "      <th>cholesterol</th>\n",
       "      <th>gluc</th>\n",
       "      <th>smoke</th>\n",
       "      <th>alco</th>\n",
       "      <th>active</th>\n",
       "      <th>cardio</th>\n",
       "    </tr>\n",
       "  </thead>\n",
       "  <tbody>\n",
       "    <tr>\n",
       "      <th>0</th>\n",
       "      <td>0</td>\n",
       "      <td>18393</td>\n",
       "      <td>2</td>\n",
       "      <td>168</td>\n",
       "      <td>62.0</td>\n",
       "      <td>110</td>\n",
       "      <td>80</td>\n",
       "      <td>1</td>\n",
       "      <td>1</td>\n",
       "      <td>0</td>\n",
       "      <td>0</td>\n",
       "      <td>1</td>\n",
       "      <td>0</td>\n",
       "    </tr>\n",
       "    <tr>\n",
       "      <th>1</th>\n",
       "      <td>1</td>\n",
       "      <td>20228</td>\n",
       "      <td>1</td>\n",
       "      <td>156</td>\n",
       "      <td>85.0</td>\n",
       "      <td>140</td>\n",
       "      <td>90</td>\n",
       "      <td>3</td>\n",
       "      <td>1</td>\n",
       "      <td>0</td>\n",
       "      <td>0</td>\n",
       "      <td>1</td>\n",
       "      <td>1</td>\n",
       "    </tr>\n",
       "    <tr>\n",
       "      <th>2</th>\n",
       "      <td>2</td>\n",
       "      <td>18857</td>\n",
       "      <td>1</td>\n",
       "      <td>165</td>\n",
       "      <td>64.0</td>\n",
       "      <td>130</td>\n",
       "      <td>70</td>\n",
       "      <td>3</td>\n",
       "      <td>1</td>\n",
       "      <td>0</td>\n",
       "      <td>0</td>\n",
       "      <td>0</td>\n",
       "      <td>1</td>\n",
       "    </tr>\n",
       "    <tr>\n",
       "      <th>3</th>\n",
       "      <td>3</td>\n",
       "      <td>17623</td>\n",
       "      <td>2</td>\n",
       "      <td>169</td>\n",
       "      <td>82.0</td>\n",
       "      <td>150</td>\n",
       "      <td>100</td>\n",
       "      <td>1</td>\n",
       "      <td>1</td>\n",
       "      <td>0</td>\n",
       "      <td>0</td>\n",
       "      <td>1</td>\n",
       "      <td>1</td>\n",
       "    </tr>\n",
       "    <tr>\n",
       "      <th>4</th>\n",
       "      <td>4</td>\n",
       "      <td>17474</td>\n",
       "      <td>1</td>\n",
       "      <td>156</td>\n",
       "      <td>56.0</td>\n",
       "      <td>100</td>\n",
       "      <td>60</td>\n",
       "      <td>1</td>\n",
       "      <td>1</td>\n",
       "      <td>0</td>\n",
       "      <td>0</td>\n",
       "      <td>0</td>\n",
       "      <td>0</td>\n",
       "    </tr>\n",
       "  </tbody>\n",
       "</table>\n",
       "</div>"
      ],
      "text/plain": [
       "   id    age  gender  height  weight  ap_hi  ap_lo  cholesterol  gluc  smoke  \\\n",
       "0   0  18393       2     168    62.0    110     80            1     1      0   \n",
       "1   1  20228       1     156    85.0    140     90            3     1      0   \n",
       "2   2  18857       1     165    64.0    130     70            3     1      0   \n",
       "3   3  17623       2     169    82.0    150    100            1     1      0   \n",
       "4   4  17474       1     156    56.0    100     60            1     1      0   \n",
       "\n",
       "   alco  active  cardio  \n",
       "0     0       1       0  \n",
       "1     0       1       1  \n",
       "2     0       0       1  \n",
       "3     0       1       1  \n",
       "4     0       0       0  "
      ]
     },
     "execution_count": 3,
     "metadata": {},
     "output_type": "execute_result"
    }
   ],
   "source": [
    "df.head()"
   ]
  },
  {
   "cell_type": "code",
   "execution_count": 4,
   "metadata": {},
   "outputs": [
    {
     "name": "stdout",
     "output_type": "stream",
     "text": [
      "<class 'pandas.core.frame.DataFrame'>\n",
      "RangeIndex: 70000 entries, 0 to 69999\n",
      "Data columns (total 13 columns):\n",
      " #   Column       Non-Null Count  Dtype  \n",
      "---  ------       --------------  -----  \n",
      " 0   id           70000 non-null  int64  \n",
      " 1   age          70000 non-null  int64  \n",
      " 2   gender       70000 non-null  int64  \n",
      " 3   height       70000 non-null  int64  \n",
      " 4   weight       70000 non-null  float64\n",
      " 5   ap_hi        70000 non-null  int64  \n",
      " 6   ap_lo        70000 non-null  int64  \n",
      " 7   cholesterol  70000 non-null  int64  \n",
      " 8   gluc         70000 non-null  int64  \n",
      " 9   smoke        70000 non-null  int64  \n",
      " 10  alco         70000 non-null  int64  \n",
      " 11  active       70000 non-null  int64  \n",
      " 12  cardio       70000 non-null  int64  \n",
      "dtypes: float64(1), int64(12)\n",
      "memory usage: 6.9 MB\n"
     ]
    }
   ],
   "source": [
    "df.info()\n",
    "#no null values in dataset"
   ]
  },
  {
   "cell_type": "markdown",
   "metadata": {},
   "source": [
    "ap_hi = systolic blood pressure; ap_lo = diastolic blood pressure"
   ]
  },
  {
   "cell_type": "markdown",
   "metadata": {},
   "source": [
    "#### Age is given in days; we will simplify this by converting to years\n"
   ]
  },
  {
   "cell_type": "code",
   "execution_count": 5,
   "metadata": {},
   "outputs": [],
   "source": [
    "df.age = df.age//365"
   ]
  },
  {
   "cell_type": "code",
   "execution_count": 6,
   "metadata": {},
   "outputs": [
    {
     "data": {
      "text/html": [
       "<div>\n",
       "<style scoped>\n",
       "    .dataframe tbody tr th:only-of-type {\n",
       "        vertical-align: middle;\n",
       "    }\n",
       "\n",
       "    .dataframe tbody tr th {\n",
       "        vertical-align: top;\n",
       "    }\n",
       "\n",
       "    .dataframe thead th {\n",
       "        text-align: right;\n",
       "    }\n",
       "</style>\n",
       "<table border=\"1\" class=\"dataframe\">\n",
       "  <thead>\n",
       "    <tr style=\"text-align: right;\">\n",
       "      <th></th>\n",
       "      <th>id</th>\n",
       "      <th>age</th>\n",
       "      <th>gender</th>\n",
       "      <th>height</th>\n",
       "      <th>weight</th>\n",
       "      <th>ap_hi</th>\n",
       "      <th>ap_lo</th>\n",
       "      <th>cholesterol</th>\n",
       "      <th>gluc</th>\n",
       "      <th>smoke</th>\n",
       "      <th>alco</th>\n",
       "      <th>active</th>\n",
       "      <th>cardio</th>\n",
       "    </tr>\n",
       "  </thead>\n",
       "  <tbody>\n",
       "    <tr>\n",
       "      <th>0</th>\n",
       "      <td>0</td>\n",
       "      <td>50</td>\n",
       "      <td>2</td>\n",
       "      <td>168</td>\n",
       "      <td>62.0</td>\n",
       "      <td>110</td>\n",
       "      <td>80</td>\n",
       "      <td>1</td>\n",
       "      <td>1</td>\n",
       "      <td>0</td>\n",
       "      <td>0</td>\n",
       "      <td>1</td>\n",
       "      <td>0</td>\n",
       "    </tr>\n",
       "    <tr>\n",
       "      <th>1</th>\n",
       "      <td>1</td>\n",
       "      <td>55</td>\n",
       "      <td>1</td>\n",
       "      <td>156</td>\n",
       "      <td>85.0</td>\n",
       "      <td>140</td>\n",
       "      <td>90</td>\n",
       "      <td>3</td>\n",
       "      <td>1</td>\n",
       "      <td>0</td>\n",
       "      <td>0</td>\n",
       "      <td>1</td>\n",
       "      <td>1</td>\n",
       "    </tr>\n",
       "    <tr>\n",
       "      <th>2</th>\n",
       "      <td>2</td>\n",
       "      <td>51</td>\n",
       "      <td>1</td>\n",
       "      <td>165</td>\n",
       "      <td>64.0</td>\n",
       "      <td>130</td>\n",
       "      <td>70</td>\n",
       "      <td>3</td>\n",
       "      <td>1</td>\n",
       "      <td>0</td>\n",
       "      <td>0</td>\n",
       "      <td>0</td>\n",
       "      <td>1</td>\n",
       "    </tr>\n",
       "    <tr>\n",
       "      <th>3</th>\n",
       "      <td>3</td>\n",
       "      <td>48</td>\n",
       "      <td>2</td>\n",
       "      <td>169</td>\n",
       "      <td>82.0</td>\n",
       "      <td>150</td>\n",
       "      <td>100</td>\n",
       "      <td>1</td>\n",
       "      <td>1</td>\n",
       "      <td>0</td>\n",
       "      <td>0</td>\n",
       "      <td>1</td>\n",
       "      <td>1</td>\n",
       "    </tr>\n",
       "    <tr>\n",
       "      <th>4</th>\n",
       "      <td>4</td>\n",
       "      <td>47</td>\n",
       "      <td>1</td>\n",
       "      <td>156</td>\n",
       "      <td>56.0</td>\n",
       "      <td>100</td>\n",
       "      <td>60</td>\n",
       "      <td>1</td>\n",
       "      <td>1</td>\n",
       "      <td>0</td>\n",
       "      <td>0</td>\n",
       "      <td>0</td>\n",
       "      <td>0</td>\n",
       "    </tr>\n",
       "    <tr>\n",
       "      <th>5</th>\n",
       "      <td>8</td>\n",
       "      <td>60</td>\n",
       "      <td>1</td>\n",
       "      <td>151</td>\n",
       "      <td>67.0</td>\n",
       "      <td>120</td>\n",
       "      <td>80</td>\n",
       "      <td>2</td>\n",
       "      <td>2</td>\n",
       "      <td>0</td>\n",
       "      <td>0</td>\n",
       "      <td>0</td>\n",
       "      <td>0</td>\n",
       "    </tr>\n",
       "    <tr>\n",
       "      <th>6</th>\n",
       "      <td>9</td>\n",
       "      <td>60</td>\n",
       "      <td>1</td>\n",
       "      <td>157</td>\n",
       "      <td>93.0</td>\n",
       "      <td>130</td>\n",
       "      <td>80</td>\n",
       "      <td>3</td>\n",
       "      <td>1</td>\n",
       "      <td>0</td>\n",
       "      <td>0</td>\n",
       "      <td>1</td>\n",
       "      <td>0</td>\n",
       "    </tr>\n",
       "    <tr>\n",
       "      <th>7</th>\n",
       "      <td>12</td>\n",
       "      <td>61</td>\n",
       "      <td>2</td>\n",
       "      <td>178</td>\n",
       "      <td>95.0</td>\n",
       "      <td>130</td>\n",
       "      <td>90</td>\n",
       "      <td>3</td>\n",
       "      <td>3</td>\n",
       "      <td>0</td>\n",
       "      <td>0</td>\n",
       "      <td>1</td>\n",
       "      <td>1</td>\n",
       "    </tr>\n",
       "    <tr>\n",
       "      <th>8</th>\n",
       "      <td>13</td>\n",
       "      <td>48</td>\n",
       "      <td>1</td>\n",
       "      <td>158</td>\n",
       "      <td>71.0</td>\n",
       "      <td>110</td>\n",
       "      <td>70</td>\n",
       "      <td>1</td>\n",
       "      <td>1</td>\n",
       "      <td>0</td>\n",
       "      <td>0</td>\n",
       "      <td>1</td>\n",
       "      <td>0</td>\n",
       "    </tr>\n",
       "    <tr>\n",
       "      <th>9</th>\n",
       "      <td>14</td>\n",
       "      <td>54</td>\n",
       "      <td>1</td>\n",
       "      <td>164</td>\n",
       "      <td>68.0</td>\n",
       "      <td>110</td>\n",
       "      <td>60</td>\n",
       "      <td>1</td>\n",
       "      <td>1</td>\n",
       "      <td>0</td>\n",
       "      <td>0</td>\n",
       "      <td>0</td>\n",
       "      <td>0</td>\n",
       "    </tr>\n",
       "  </tbody>\n",
       "</table>\n",
       "</div>"
      ],
      "text/plain": [
       "   id  age  gender  height  weight  ap_hi  ap_lo  cholesterol  gluc  smoke  \\\n",
       "0   0   50       2     168    62.0    110     80            1     1      0   \n",
       "1   1   55       1     156    85.0    140     90            3     1      0   \n",
       "2   2   51       1     165    64.0    130     70            3     1      0   \n",
       "3   3   48       2     169    82.0    150    100            1     1      0   \n",
       "4   4   47       1     156    56.0    100     60            1     1      0   \n",
       "5   8   60       1     151    67.0    120     80            2     2      0   \n",
       "6   9   60       1     157    93.0    130     80            3     1      0   \n",
       "7  12   61       2     178    95.0    130     90            3     3      0   \n",
       "8  13   48       1     158    71.0    110     70            1     1      0   \n",
       "9  14   54       1     164    68.0    110     60            1     1      0   \n",
       "\n",
       "   alco  active  cardio  \n",
       "0     0       1       0  \n",
       "1     0       1       1  \n",
       "2     0       0       1  \n",
       "3     0       1       1  \n",
       "4     0       0       0  \n",
       "5     0       0       0  \n",
       "6     0       1       0  \n",
       "7     0       1       1  \n",
       "8     0       1       0  \n",
       "9     0       0       0  "
      ]
     },
     "execution_count": 6,
     "metadata": {},
     "output_type": "execute_result"
    }
   ],
   "source": [
    "df.head(10)"
   ]
  },
  {
   "cell_type": "code",
   "execution_count": 7,
   "metadata": {},
   "outputs": [
    {
     "data": {
      "text/html": [
       "<div>\n",
       "<style scoped>\n",
       "    .dataframe tbody tr th:only-of-type {\n",
       "        vertical-align: middle;\n",
       "    }\n",
       "\n",
       "    .dataframe tbody tr th {\n",
       "        vertical-align: top;\n",
       "    }\n",
       "\n",
       "    .dataframe thead th {\n",
       "        text-align: right;\n",
       "    }\n",
       "</style>\n",
       "<table border=\"1\" class=\"dataframe\">\n",
       "  <thead>\n",
       "    <tr style=\"text-align: right;\">\n",
       "      <th></th>\n",
       "      <th>id</th>\n",
       "      <th>age</th>\n",
       "      <th>gender</th>\n",
       "      <th>height</th>\n",
       "      <th>weight</th>\n",
       "      <th>ap_hi</th>\n",
       "      <th>ap_lo</th>\n",
       "      <th>cholesterol</th>\n",
       "      <th>gluc</th>\n",
       "      <th>smoke</th>\n",
       "      <th>alco</th>\n",
       "      <th>active</th>\n",
       "      <th>cardio</th>\n",
       "    </tr>\n",
       "  </thead>\n",
       "  <tbody>\n",
       "    <tr>\n",
       "      <th>count</th>\n",
       "      <td>70000.000000</td>\n",
       "      <td>70000.000000</td>\n",
       "      <td>70000.000000</td>\n",
       "      <td>70000.000000</td>\n",
       "      <td>70000.000000</td>\n",
       "      <td>70000.000000</td>\n",
       "      <td>70000.000000</td>\n",
       "      <td>70000.000000</td>\n",
       "      <td>70000.000000</td>\n",
       "      <td>70000.000000</td>\n",
       "      <td>70000.000000</td>\n",
       "      <td>70000.000000</td>\n",
       "      <td>70000.000000</td>\n",
       "    </tr>\n",
       "    <tr>\n",
       "      <th>mean</th>\n",
       "      <td>49972.419900</td>\n",
       "      <td>52.840671</td>\n",
       "      <td>1.349571</td>\n",
       "      <td>164.359229</td>\n",
       "      <td>74.205690</td>\n",
       "      <td>128.817286</td>\n",
       "      <td>96.630414</td>\n",
       "      <td>1.366871</td>\n",
       "      <td>1.226457</td>\n",
       "      <td>0.088129</td>\n",
       "      <td>0.053771</td>\n",
       "      <td>0.803729</td>\n",
       "      <td>0.499700</td>\n",
       "    </tr>\n",
       "    <tr>\n",
       "      <th>std</th>\n",
       "      <td>28851.302323</td>\n",
       "      <td>6.766774</td>\n",
       "      <td>0.476838</td>\n",
       "      <td>8.210126</td>\n",
       "      <td>14.395757</td>\n",
       "      <td>154.011419</td>\n",
       "      <td>188.472530</td>\n",
       "      <td>0.680250</td>\n",
       "      <td>0.572270</td>\n",
       "      <td>0.283484</td>\n",
       "      <td>0.225568</td>\n",
       "      <td>0.397179</td>\n",
       "      <td>0.500003</td>\n",
       "    </tr>\n",
       "    <tr>\n",
       "      <th>min</th>\n",
       "      <td>0.000000</td>\n",
       "      <td>29.000000</td>\n",
       "      <td>1.000000</td>\n",
       "      <td>55.000000</td>\n",
       "      <td>10.000000</td>\n",
       "      <td>-150.000000</td>\n",
       "      <td>-70.000000</td>\n",
       "      <td>1.000000</td>\n",
       "      <td>1.000000</td>\n",
       "      <td>0.000000</td>\n",
       "      <td>0.000000</td>\n",
       "      <td>0.000000</td>\n",
       "      <td>0.000000</td>\n",
       "    </tr>\n",
       "    <tr>\n",
       "      <th>25%</th>\n",
       "      <td>25006.750000</td>\n",
       "      <td>48.000000</td>\n",
       "      <td>1.000000</td>\n",
       "      <td>159.000000</td>\n",
       "      <td>65.000000</td>\n",
       "      <td>120.000000</td>\n",
       "      <td>80.000000</td>\n",
       "      <td>1.000000</td>\n",
       "      <td>1.000000</td>\n",
       "      <td>0.000000</td>\n",
       "      <td>0.000000</td>\n",
       "      <td>1.000000</td>\n",
       "      <td>0.000000</td>\n",
       "    </tr>\n",
       "    <tr>\n",
       "      <th>50%</th>\n",
       "      <td>50001.500000</td>\n",
       "      <td>53.000000</td>\n",
       "      <td>1.000000</td>\n",
       "      <td>165.000000</td>\n",
       "      <td>72.000000</td>\n",
       "      <td>120.000000</td>\n",
       "      <td>80.000000</td>\n",
       "      <td>1.000000</td>\n",
       "      <td>1.000000</td>\n",
       "      <td>0.000000</td>\n",
       "      <td>0.000000</td>\n",
       "      <td>1.000000</td>\n",
       "      <td>0.000000</td>\n",
       "    </tr>\n",
       "    <tr>\n",
       "      <th>75%</th>\n",
       "      <td>74889.250000</td>\n",
       "      <td>58.000000</td>\n",
       "      <td>2.000000</td>\n",
       "      <td>170.000000</td>\n",
       "      <td>82.000000</td>\n",
       "      <td>140.000000</td>\n",
       "      <td>90.000000</td>\n",
       "      <td>2.000000</td>\n",
       "      <td>1.000000</td>\n",
       "      <td>0.000000</td>\n",
       "      <td>0.000000</td>\n",
       "      <td>1.000000</td>\n",
       "      <td>1.000000</td>\n",
       "    </tr>\n",
       "    <tr>\n",
       "      <th>max</th>\n",
       "      <td>99999.000000</td>\n",
       "      <td>64.000000</td>\n",
       "      <td>2.000000</td>\n",
       "      <td>250.000000</td>\n",
       "      <td>200.000000</td>\n",
       "      <td>16020.000000</td>\n",
       "      <td>11000.000000</td>\n",
       "      <td>3.000000</td>\n",
       "      <td>3.000000</td>\n",
       "      <td>1.000000</td>\n",
       "      <td>1.000000</td>\n",
       "      <td>1.000000</td>\n",
       "      <td>1.000000</td>\n",
       "    </tr>\n",
       "  </tbody>\n",
       "</table>\n",
       "</div>"
      ],
      "text/plain": [
       "                 id           age        gender        height        weight  \\\n",
       "count  70000.000000  70000.000000  70000.000000  70000.000000  70000.000000   \n",
       "mean   49972.419900     52.840671      1.349571    164.359229     74.205690   \n",
       "std    28851.302323      6.766774      0.476838      8.210126     14.395757   \n",
       "min        0.000000     29.000000      1.000000     55.000000     10.000000   \n",
       "25%    25006.750000     48.000000      1.000000    159.000000     65.000000   \n",
       "50%    50001.500000     53.000000      1.000000    165.000000     72.000000   \n",
       "75%    74889.250000     58.000000      2.000000    170.000000     82.000000   \n",
       "max    99999.000000     64.000000      2.000000    250.000000    200.000000   \n",
       "\n",
       "              ap_hi         ap_lo   cholesterol          gluc         smoke  \\\n",
       "count  70000.000000  70000.000000  70000.000000  70000.000000  70000.000000   \n",
       "mean     128.817286     96.630414      1.366871      1.226457      0.088129   \n",
       "std      154.011419    188.472530      0.680250      0.572270      0.283484   \n",
       "min     -150.000000    -70.000000      1.000000      1.000000      0.000000   \n",
       "25%      120.000000     80.000000      1.000000      1.000000      0.000000   \n",
       "50%      120.000000     80.000000      1.000000      1.000000      0.000000   \n",
       "75%      140.000000     90.000000      2.000000      1.000000      0.000000   \n",
       "max    16020.000000  11000.000000      3.000000      3.000000      1.000000   \n",
       "\n",
       "               alco        active        cardio  \n",
       "count  70000.000000  70000.000000  70000.000000  \n",
       "mean       0.053771      0.803729      0.499700  \n",
       "std        0.225568      0.397179      0.500003  \n",
       "min        0.000000      0.000000      0.000000  \n",
       "25%        0.000000      1.000000      0.000000  \n",
       "50%        0.000000      1.000000      0.000000  \n",
       "75%        0.000000      1.000000      1.000000  \n",
       "max        1.000000      1.000000      1.000000  "
      ]
     },
     "execution_count": 7,
     "metadata": {},
     "output_type": "execute_result"
    }
   ],
   "source": [
    "df.describe()"
   ]
  },
  {
   "cell_type": "markdown",
   "metadata": {},
   "source": [
    "max and min of ap_hi and ap_lo seem like they were typoes given the range from -150 to 16000... it is unlikely those are the real values.\n",
    "\n",
    "Normal systolic and diastolic blood pressure should be under 180 and 120 respectively. We can reasonably assume that the patients while in examination for this data were not in hypertensive crisis. Therefore all values exceeding those thresholds should be removed."
   ]
  },
  {
   "cell_type": "code",
   "execution_count": 8,
   "metadata": {},
   "outputs": [
    {
     "data": {
      "text/plain": [
       "<matplotlib.axes._subplots.AxesSubplot at 0x1faacdc2308>"
      ]
     },
     "execution_count": 8,
     "metadata": {},
     "output_type": "execute_result"
    },
    {
     "data": {
      "image/png": "[encoded data removed]",
      "text/plain": [
       "<Figure size 432x288 with 1 Axes>"
      ]
     },
     "metadata": {},
     "output_type": "display_data"
    }
   ],
   "source": [
    "sns.scatterplot(x = df.ap_hi, y = df.ap_hi)"
   ]
  },
  {
   "cell_type": "code",
   "execution_count": 9,
   "metadata": {},
   "outputs": [],
   "source": [
    "#removing extreme blood pressure values\n",
    "df = df[df.ap_hi < 180]\n",
    "df = df[df.ap_lo < 120]"
   ]
  },
  {
   "cell_type": "code",
   "execution_count": 10,
   "metadata": {},
   "outputs": [
    {
     "data": {
      "text/plain": [
       "<matplotlib.axes._subplots.AxesSubplot at 0x1faafba1f88>"
      ]
     },
     "execution_count": 10,
     "metadata": {},
     "output_type": "execute_result"
    },
    {
     "data": {
      "image/png": "[encoded data removed]",
      "text/plain": [
       "<Figure size 432x288 with 2 Axes>"
      ]
     },
     "metadata": {},
     "output_type": "display_data"
    }
   ],
   "source": [
    "f, axes = plt.subplots(1, 2)\n",
    "\n",
    "sns.scatterplot(x = df.ap_hi, y = df.ap_hi, ax=axes[0])\n",
    "sns.scatterplot(x = df.ap_lo, y = df.ap_lo, ax=axes[1])"
   ]
  },
  {
   "cell_type": "markdown",
   "metadata": {},
   "source": [
    "min values also do not make sense; it isn't possible to have negative blood pressures so these values are removed."
   ]
  },
  {
   "cell_type": "code",
   "execution_count": 11,
   "metadata": {},
   "outputs": [],
   "source": [
    "df = df[df.ap_hi > 40]\n",
    "df = df[df.ap_lo > 40]"
   ]
  },
  {
   "cell_type": "code",
   "execution_count": 12,
   "metadata": {},
   "outputs": [
    {
     "data": {
      "text/plain": [
       "<matplotlib.axes._subplots.AxesSubplot at 0x1faafd7ba88>"
      ]
     },
     "execution_count": 12,
     "metadata": {},
     "output_type": "execute_result"
    },
    {
     "data": {
      "image/png": "[encoded data removed]",
      "text/plain": [
       "<Figure size 432x288 with 2 Axes>"
      ]
     },
     "metadata": {},
     "output_type": "display_data"
    }
   ],
   "source": [
    "f, axes = plt.subplots(1, 2)\n",
    "\n",
    "sns.scatterplot(x = df.ap_hi, y = df.ap_hi, ax=axes[0])\n",
    "sns.scatterplot(x = df.ap_lo, y = df.ap_lo, ax=axes[1])"
   ]
  },
  {
   "cell_type": "code",
   "execution_count": 13,
   "metadata": {},
   "outputs": [
    {
     "data": {
      "text/plain": [
       "<matplotlib.axes._subplots.AxesSubplot at 0x1faafc81208>"
      ]
     },
     "execution_count": 13,
     "metadata": {},
     "output_type": "execute_result"
    },
    {
     "data": {
      "image/png": "[encoded data removed]",
      "text/plain": [
       "<Figure size 432x288 with 1 Axes>"
      ]
     },
     "metadata": {},
     "output_type": "display_data"
    }
   ],
   "source": [
    "sns.scatterplot(x = df.height, y = df.height)"
   ]
  },
  {
   "cell_type": "markdown",
   "metadata": {},
   "source": [
    "height also seems to have irregularities in the data. Many are recorded being less than 100cm in height. The minimum age is 29 in this dataset, which makes it unlikely that the heights are true values. "
   ]
  },
  {
   "cell_type": "code",
   "execution_count": 14,
   "metadata": {},
   "outputs": [],
   "source": [
    "standarddev = np.std(df.height)\n",
    "meanheight = np.mean(df.height)\n",
    "\n",
    "df = df[df.height > (meanheight - 4*standarddev)]\n",
    "df = df[df.height < (meanheight + 4*standarddev)]"
   ]
  },
  {
   "cell_type": "code",
   "execution_count": 15,
   "metadata": {},
   "outputs": [
    {
     "data": {
      "text/plain": [
       "<matplotlib.axes._subplots.AxesSubplot at 0x1faafcee0c8>"
      ]
     },
     "execution_count": 15,
     "metadata": {},
     "output_type": "execute_result"
    },
    {
     "data": {
      "image/png": "[encoded data removed]",
      "text/plain": [
       "<Figure size 432x288 with 1 Axes>"
      ]
     },
     "metadata": {},
     "output_type": "display_data"
    }
   ],
   "source": [
    "sns.scatterplot(x = df.height, y = df.height)"
   ]
  },
  {
   "cell_type": "code",
   "execution_count": 16,
   "metadata": {},
   "outputs": [
    {
     "data": {
      "text/plain": [
       "<matplotlib.axes._subplots.AxesSubplot at 0x1faace61508>"
      ]
     },
     "execution_count": 16,
     "metadata": {},
     "output_type": "execute_result"
    },
    {
     "data": {
      "image/png": "[encoded data removed]",
      "text/plain": [
       "<Figure size 432x288 with 1 Axes>"
      ]
     },
     "metadata": {},
     "output_type": "display_data"
    }
   ],
   "source": [
    "df.cardio.value_counts().plot(kind='bar')\n",
    "#Cardio is target variable, and is roughly balanced"
   ]
  },
  {
   "cell_type": "markdown",
   "metadata": {},
   "source": [
    "# Exploratory Data Analysis\n",
    "- understanding the relationships between variables"
   ]
  },
  {
   "cell_type": "code",
   "execution_count": 17,
   "metadata": {},
   "outputs": [
    {
     "data": {
      "text/html": [
       "<div>\n",
       "<style scoped>\n",
       "    .dataframe tbody tr th:only-of-type {\n",
       "        vertical-align: middle;\n",
       "    }\n",
       "\n",
       "    .dataframe tbody tr th {\n",
       "        vertical-align: top;\n",
       "    }\n",
       "\n",
       "    .dataframe thead th {\n",
       "        text-align: right;\n",
       "    }\n",
       "</style>\n",
       "<table border=\"1\" class=\"dataframe\">\n",
       "  <thead>\n",
       "    <tr style=\"text-align: right;\">\n",
       "      <th></th>\n",
       "      <th>id</th>\n",
       "      <th>age</th>\n",
       "      <th>gender</th>\n",
       "      <th>height</th>\n",
       "      <th>weight</th>\n",
       "      <th>ap_hi</th>\n",
       "      <th>ap_lo</th>\n",
       "      <th>cholesterol</th>\n",
       "      <th>gluc</th>\n",
       "      <th>smoke</th>\n",
       "      <th>alco</th>\n",
       "      <th>active</th>\n",
       "      <th>cardio</th>\n",
       "    </tr>\n",
       "  </thead>\n",
       "  <tbody>\n",
       "    <tr>\n",
       "      <th>id</th>\n",
       "      <td>1.000000</td>\n",
       "      <td>0.003479</td>\n",
       "      <td>0.001999</td>\n",
       "      <td>-0.002823</td>\n",
       "      <td>-0.001267</td>\n",
       "      <td>0.002568</td>\n",
       "      <td>0.000205</td>\n",
       "      <td>0.006453</td>\n",
       "      <td>0.001849</td>\n",
       "      <td>-0.003740</td>\n",
       "      <td>0.000686</td>\n",
       "      <td>0.004203</td>\n",
       "      <td>0.004026</td>\n",
       "    </tr>\n",
       "    <tr>\n",
       "      <th>age</th>\n",
       "      <td>0.003479</td>\n",
       "      <td>1.000000</td>\n",
       "      <td>-0.023441</td>\n",
       "      <td>-0.085930</td>\n",
       "      <td>0.053759</td>\n",
       "      <td>0.213092</td>\n",
       "      <td>0.155877</td>\n",
       "      <td>0.153817</td>\n",
       "      <td>0.097992</td>\n",
       "      <td>-0.048319</td>\n",
       "      <td>-0.029257</td>\n",
       "      <td>-0.010343</td>\n",
       "      <td>0.239363</td>\n",
       "    </tr>\n",
       "    <tr>\n",
       "      <th>gender</th>\n",
       "      <td>0.001999</td>\n",
       "      <td>-0.023441</td>\n",
       "      <td>1.000000</td>\n",
       "      <td>0.521428</td>\n",
       "      <td>0.158024</td>\n",
       "      <td>0.061164</td>\n",
       "      <td>0.066682</td>\n",
       "      <td>-0.037871</td>\n",
       "      <td>-0.021427</td>\n",
       "      <td>0.338274</td>\n",
       "      <td>0.171000</td>\n",
       "      <td>0.005753</td>\n",
       "      <td>0.005212</td>\n",
       "    </tr>\n",
       "    <tr>\n",
       "      <th>height</th>\n",
       "      <td>-0.002823</td>\n",
       "      <td>-0.085930</td>\n",
       "      <td>0.521428</td>\n",
       "      <td>1.000000</td>\n",
       "      <td>0.313489</td>\n",
       "      <td>0.022214</td>\n",
       "      <td>0.039452</td>\n",
       "      <td>-0.056200</td>\n",
       "      <td>-0.021632</td>\n",
       "      <td>0.195816</td>\n",
       "      <td>0.097743</td>\n",
       "      <td>-0.010041</td>\n",
       "      <td>-0.012434</td>\n",
       "    </tr>\n",
       "    <tr>\n",
       "      <th>weight</th>\n",
       "      <td>-0.001267</td>\n",
       "      <td>0.053759</td>\n",
       "      <td>0.158024</td>\n",
       "      <td>0.313489</td>\n",
       "      <td>1.000000</td>\n",
       "      <td>0.265272</td>\n",
       "      <td>0.245754</td>\n",
       "      <td>0.138684</td>\n",
       "      <td>0.103819</td>\n",
       "      <td>0.066530</td>\n",
       "      <td>0.066752</td>\n",
       "      <td>-0.017472</td>\n",
       "      <td>0.176051</td>\n",
       "    </tr>\n",
       "    <tr>\n",
       "      <th>ap_hi</th>\n",
       "      <td>0.002568</td>\n",
       "      <td>0.213092</td>\n",
       "      <td>0.061164</td>\n",
       "      <td>0.022214</td>\n",
       "      <td>0.265272</td>\n",
       "      <td>1.000000</td>\n",
       "      <td>0.720018</td>\n",
       "      <td>0.193173</td>\n",
       "      <td>0.089695</td>\n",
       "      <td>0.023323</td>\n",
       "      <td>0.030767</td>\n",
       "      <td>0.001729</td>\n",
       "      <td>0.434558</td>\n",
       "    </tr>\n",
       "    <tr>\n",
       "      <th>ap_lo</th>\n",
       "      <td>0.000205</td>\n",
       "      <td>0.155877</td>\n",
       "      <td>0.066682</td>\n",
       "      <td>0.039452</td>\n",
       "      <td>0.245754</td>\n",
       "      <td>0.720018</td>\n",
       "      <td>1.000000</td>\n",
       "      <td>0.156106</td>\n",
       "      <td>0.069863</td>\n",
       "      <td>0.021905</td>\n",
       "      <td>0.033899</td>\n",
       "      <td>-0.000271</td>\n",
       "      <td>0.337461</td>\n",
       "    </tr>\n",
       "    <tr>\n",
       "      <th>cholesterol</th>\n",
       "      <td>0.006453</td>\n",
       "      <td>0.153817</td>\n",
       "      <td>-0.037871</td>\n",
       "      <td>-0.056200</td>\n",
       "      <td>0.138684</td>\n",
       "      <td>0.193173</td>\n",
       "      <td>0.156106</td>\n",
       "      <td>1.000000</td>\n",
       "      <td>0.450017</td>\n",
       "      <td>0.009690</td>\n",
       "      <td>0.032389</td>\n",
       "      <td>0.009838</td>\n",
       "      <td>0.220902</td>\n",
       "    </tr>\n",
       "    <tr>\n",
       "      <th>gluc</th>\n",
       "      <td>0.001849</td>\n",
       "      <td>0.097992</td>\n",
       "      <td>-0.021427</td>\n",
       "      <td>-0.021632</td>\n",
       "      <td>0.103819</td>\n",
       "      <td>0.089695</td>\n",
       "      <td>0.069863</td>\n",
       "      <td>0.450017</td>\n",
       "      <td>1.000000</td>\n",
       "      <td>-0.005484</td>\n",
       "      <td>0.008579</td>\n",
       "      <td>-0.006768</td>\n",
       "      <td>0.088093</td>\n",
       "    </tr>\n",
       "    <tr>\n",
       "      <th>smoke</th>\n",
       "      <td>-0.003740</td>\n",
       "      <td>-0.048319</td>\n",
       "      <td>0.338274</td>\n",
       "      <td>0.195816</td>\n",
       "      <td>0.066530</td>\n",
       "      <td>0.023323</td>\n",
       "      <td>0.021905</td>\n",
       "      <td>0.009690</td>\n",
       "      <td>-0.005484</td>\n",
       "      <td>1.000000</td>\n",
       "      <td>0.340096</td>\n",
       "      <td>0.025077</td>\n",
       "      <td>-0.018276</td>\n",
       "    </tr>\n",
       "    <tr>\n",
       "      <th>alco</th>\n",
       "      <td>0.000686</td>\n",
       "      <td>-0.029257</td>\n",
       "      <td>0.171000</td>\n",
       "      <td>0.097743</td>\n",
       "      <td>0.066752</td>\n",
       "      <td>0.030767</td>\n",
       "      <td>0.033899</td>\n",
       "      <td>0.032389</td>\n",
       "      <td>0.008579</td>\n",
       "      <td>0.340096</td>\n",
       "      <td>1.000000</td>\n",
       "      <td>0.025104</td>\n",
       "      <td>-0.010380</td>\n",
       "    </tr>\n",
       "    <tr>\n",
       "      <th>active</th>\n",
       "      <td>0.004203</td>\n",
       "      <td>-0.010343</td>\n",
       "      <td>0.005753</td>\n",
       "      <td>-0.010041</td>\n",
       "      <td>-0.017472</td>\n",
       "      <td>0.001729</td>\n",
       "      <td>-0.000271</td>\n",
       "      <td>0.009838</td>\n",
       "      <td>-0.006768</td>\n",
       "      <td>0.025077</td>\n",
       "      <td>0.025104</td>\n",
       "      <td>1.000000</td>\n",
       "      <td>-0.037597</td>\n",
       "    </tr>\n",
       "    <tr>\n",
       "      <th>cardio</th>\n",
       "      <td>0.004026</td>\n",
       "      <td>0.239363</td>\n",
       "      <td>0.005212</td>\n",
       "      <td>-0.012434</td>\n",
       "      <td>0.176051</td>\n",
       "      <td>0.434558</td>\n",
       "      <td>0.337461</td>\n",
       "      <td>0.220902</td>\n",
       "      <td>0.088093</td>\n",
       "      <td>-0.018276</td>\n",
       "      <td>-0.010380</td>\n",
       "      <td>-0.037597</td>\n",
       "      <td>1.000000</td>\n",
       "    </tr>\n",
       "  </tbody>\n",
       "</table>\n",
       "</div>"
      ],
      "text/plain": [
       "                   id       age    gender    height    weight     ap_hi  \\\n",
       "id           1.000000  0.003479  0.001999 -0.002823 -0.001267  0.002568   \n",
       "age          0.003479  1.000000 -0.023441 -0.085930  0.053759  0.213092   \n",
       "gender       0.001999 -0.023441  1.000000  0.521428  0.158024  0.061164   \n",
       "height      -0.002823 -0.085930  0.521428  1.000000  0.313489  0.022214   \n",
       "weight      -0.001267  0.053759  0.158024  0.313489  1.000000  0.265272   \n",
       "ap_hi        0.002568  0.213092  0.061164  0.022214  0.265272  1.000000   \n",
       "ap_lo        0.000205  0.155877  0.066682  0.039452  0.245754  0.720018   \n",
       "cholesterol  0.006453  0.153817 -0.037871 -0.056200  0.138684  0.193173   \n",
       "gluc         0.001849  0.097992 -0.021427 -0.021632  0.103819  0.089695   \n",
       "smoke       -0.003740 -0.048319  0.338274  0.195816  0.066530  0.023323   \n",
       "alco         0.000686 -0.029257  0.171000  0.097743  0.066752  0.030767   \n",
       "active       0.004203 -0.010343  0.005753 -0.010041 -0.017472  0.001729   \n",
       "cardio       0.004026  0.239363  0.005212 -0.012434  0.176051  0.434558   \n",
       "\n",
       "                ap_lo  cholesterol      gluc     smoke      alco    active  \\\n",
       "id           0.000205     0.006453  0.001849 -0.003740  0.000686  0.004203   \n",
       "age          0.155877     0.153817  0.097992 -0.048319 -0.029257 -0.010343   \n",
       "gender       0.066682    -0.037871 -0.021427  0.338274  0.171000  0.005753   \n",
       "height       0.039452    -0.056200 -0.021632  0.195816  0.097743 -0.010041   \n",
       "weight       0.245754     0.138684  0.103819  0.066530  0.066752 -0.017472   \n",
       "ap_hi        0.720018     0.193173  0.089695  0.023323  0.030767  0.001729   \n",
       "ap_lo        1.000000     0.156106  0.069863  0.021905  0.033899 -0.000271   \n",
       "cholesterol  0.156106     1.000000  0.450017  0.009690  0.032389  0.009838   \n",
       "gluc         0.069863     0.450017  1.000000 -0.005484  0.008579 -0.006768   \n",
       "smoke        0.021905     0.009690 -0.005484  1.000000  0.340096  0.025077   \n",
       "alco         0.033899     0.032389  0.008579  0.340096  1.000000  0.025104   \n",
       "active      -0.000271     0.009838 -0.006768  0.025077  0.025104  1.000000   \n",
       "cardio       0.337461     0.220902  0.088093 -0.018276 -0.010380 -0.037597   \n",
       "\n",
       "               cardio  \n",
       "id           0.004026  \n",
       "age          0.239363  \n",
       "gender       0.005212  \n",
       "height      -0.012434  \n",
       "weight       0.176051  \n",
       "ap_hi        0.434558  \n",
       "ap_lo        0.337461  \n",
       "cholesterol  0.220902  \n",
       "gluc         0.088093  \n",
       "smoke       -0.018276  \n",
       "alco        -0.010380  \n",
       "active      -0.037597  \n",
       "cardio       1.000000  "
      ]
     },
     "execution_count": 17,
     "metadata": {},
     "output_type": "execute_result"
    }
   ],
   "source": [
    "df.corr()"
   ]
  },
  {
   "cell_type": "code",
   "execution_count": 18,
   "metadata": {},
   "outputs": [
    {
     "data": {
      "text/plain": [
       "<matplotlib.axes._subplots.AxesSubplot at 0x1faaff325c8>"
      ]
     },
     "execution_count": 18,
     "metadata": {},
     "output_type": "execute_result"
    },
    {
     "data": {
      "image/png": "[encoded data removed]",
      "text/plain": [
       "<Figure size 432x288 with 2 Axes>"
      ]
     },
     "metadata": {},
     "output_type": "display_data"
    }
   ],
   "source": [
    "sns.heatmap(df.corr(method = 'spearman'), cmap=\"YlGnBu\")"
   ]
  },
  {
   "cell_type": "code",
   "execution_count": 19,
   "metadata": {},
   "outputs": [
    {
     "data": {
      "text/plain": [
       "<seaborn.axisgrid.JointGrid at 0x1faaff4ae88>"
      ]
     },
     "execution_count": 19,
     "metadata": {},
     "output_type": "execute_result"
    },
    {
     "data": {
      "image/png": "[encoded data removed]",
      "text/plain": [
       "<Figure size 432x432 with 3 Axes>"
      ]
     },
     "metadata": {},
     "output_type": "display_data"
    }
   ],
   "source": [
    "sns.jointplot(x=df.weight, y=df.height, kind=\"hex\", color=\"#4CB391\", bins = 20)"
   ]
  },
  {
   "cell_type": "markdown",
   "metadata": {},
   "source": [
    "The average patient in this dataset weighs around 75kg and is around 170cm tall."
   ]
  },
  {
   "cell_type": "code",
   "execution_count": 20,
   "metadata": {},
   "outputs": [
    {
     "data": {
      "text/plain": [
       "Text(0.5, 1.0, 'height vs weight')"
      ]
     },
     "execution_count": 20,
     "metadata": {},
     "output_type": "execute_result"
    },
    {
     "data": {
      "image/png": "[encoded data removed]",
      "text/plain": [
       "<Figure size 720x360 with 1 Axes>"
      ]
     },
     "metadata": {},
     "output_type": "display_data"
    }
   ],
   "source": [
    "plt.figure(figsize=(10,5))\n",
    "sns.scatterplot(x = df.weight, y = df.height, hue = df.cardio).set_title(\"height vs weight\")"
   ]
  },
  {
   "cell_type": "code",
   "execution_count": 21,
   "metadata": {
    "scrolled": false
   },
   "outputs": [
    {
     "data": {
      "text/plain": [
       "Text(0.5, 1.0, 'Weight distribution')"
      ]
     },
     "execution_count": 21,
     "metadata": {},
     "output_type": "execute_result"
    },
    {
     "data": {
      "image/png": "[encoded data removed]",
      "text/plain": [
       "<Figure size 720x360 with 1 Axes>"
      ]
     },
     "metadata": {},
     "output_type": "display_data"
    }
   ],
   "source": [
    "#Weight\n",
    "plt.figure(figsize=(10,5))\n",
    "sns.histplot(x = df.weight, hue = df.cardio, bins = 40).set_title(\"Weight distribution\")"
   ]
  },
  {
   "cell_type": "code",
   "execution_count": 22,
   "metadata": {
    "scrolled": false
   },
   "outputs": [
    {
     "data": {
      "text/plain": [
       "Text(0.5, 1.0, 'Height distribution')"
      ]
     },
     "execution_count": 22,
     "metadata": {},
     "output_type": "execute_result"
    },
    {
     "data": {
      "image/png": "[encoded data removed]",
      "text/plain": [
       "<Figure size 720x360 with 1 Axes>"
      ]
     },
     "metadata": {},
     "output_type": "display_data"
    }
   ],
   "source": [
    "plt.figure(figsize=(10,5))\n",
    "sns.histplot(x = df.height, hue = df.cardio, bins = 40).set_title(\"Height distribution\")"
   ]
  },
  {
   "cell_type": "markdown",
   "metadata": {},
   "source": [
    "It looks like more weight increases chance of cardiac arrest, and height is less of an affector"
   ]
  },
  {
   "cell_type": "code",
   "execution_count": 23,
   "metadata": {},
   "outputs": [],
   "source": [
    "#grouping by gender\n",
    "mdf = df[df.gender == 1]\n",
    "fdf = df[df.gender == 2]"
   ]
  },
  {
   "cell_type": "markdown",
   "metadata": {},
   "source": [
    "## Cholesterol"
   ]
  },
  {
   "cell_type": "code",
   "execution_count": 24,
   "metadata": {
    "scrolled": true
   },
   "outputs": [
    {
     "data": {
      "text/plain": [
       "[Text(0, 0, 'normal'),\n",
       " Text(0, 0, 'above normal'),\n",
       " Text(0, 0, 'well above normal')]"
      ]
     },
     "execution_count": 24,
     "metadata": {},
     "output_type": "execute_result"
    },
    {
     "data": {
      "image/png": "[encoded data removed]",
      "text/plain": [
       "<Figure size 432x288 with 1 Axes>"
      ]
     },
     "metadata": {},
     "output_type": "display_data"
    }
   ],
   "source": [
    "sns.countplot(x = df.cholesterol, hue = df.cardio).set_xticklabels([\"normal\", \"above normal\", \"well above normal\"])"
   ]
  },
  {
   "cell_type": "markdown",
   "metadata": {},
   "source": [
    "Cholesterol at high levels has a more pronounced effect on cardiac disease"
   ]
  },
  {
   "cell_type": "code",
   "execution_count": 25,
   "metadata": {},
   "outputs": [
    {
     "data": {
      "text/plain": [
       "Text(0.5, 1.0, 'Females')"
      ]
     },
     "execution_count": 25,
     "metadata": {},
     "output_type": "execute_result"
    },
    {
     "data": {
      "image/png": "[encoded data removed]",
      "text/plain": [
       "<Figure size 864x360 with 2 Axes>"
      ]
     },
     "metadata": {},
     "output_type": "display_data"
    }
   ],
   "source": [
    "f, axes = plt.subplots(1, 2, figsize=(12,5), sharey=True)\n",
    "sns.countplot(x = mdf.cholesterol, hue = mdf.cardio, ax=axes[0]).set_xticklabels([\"normal\", \"above normal\", \"well above normal\"])\n",
    "sns.countplot(x = fdf.cholesterol, hue = fdf.cardio, ax=axes[1]).set_xticklabels([\"normal\", \"above normal\", \"well above normal\"])\n",
    "axes[0].set_title(\"Males\")\n",
    "axes[1].set_title(\"Females\")"
   ]
  },
  {
   "cell_type": "markdown",
   "metadata": {},
   "source": [
    "## Glucose"
   ]
  },
  {
   "cell_type": "code",
   "execution_count": 26,
   "metadata": {},
   "outputs": [
    {
     "data": {
      "text/plain": [
       "[Text(0, 0, 'normal'),\n",
       " Text(0, 0, 'above normal'),\n",
       " Text(0, 0, 'well above normal')]"
      ]
     },
     "execution_count": 26,
     "metadata": {},
     "output_type": "execute_result"
    },
    {
     "data": {
      "image/png": "[encoded data removed]",
      "text/plain": [
       "<Figure size 432x288 with 1 Axes>"
      ]
     },
     "metadata": {},
     "output_type": "display_data"
    }
   ],
   "source": [
    "sns.countplot(x = df.gluc, hue = df.cardio).set_xticklabels([\"normal\", \"above normal\", \"well above normal\"])"
   ]
  },
  {
   "cell_type": "markdown",
   "metadata": {},
   "source": [
    "Elevated glucose levels also look to result in more cardiac disease, but not as significantly as cholesterol. Cholesterol and glucose are moderately correlated with the spearman coefficient of ~0.4"
   ]
  },
  {
   "cell_type": "markdown",
   "metadata": {},
   "source": [
    "## Smoking"
   ]
  },
  {
   "cell_type": "code",
   "execution_count": 27,
   "metadata": {},
   "outputs": [
    {
     "data": {
      "text/plain": [
       "Text(0.5, 1.0, 'Females')"
      ]
     },
     "execution_count": 27,
     "metadata": {},
     "output_type": "execute_result"
    },
    {
     "data": {
      "image/png": "[encoded data removed]",
      "text/plain": [
       "<Figure size 864x360 with 2 Axes>"
      ]
     },
     "metadata": {},
     "output_type": "display_data"
    }
   ],
   "source": [
    "f, axes = plt.subplots(1, 2, figsize=(12,5), sharey=True)\n",
    "sns.countplot(x = mdf.smoke, hue = mdf.cardio, ax=axes[0]).set_xticklabels([\"no\", \"yes\"])\n",
    "sns.countplot(x = fdf.smoke, hue = fdf.cardio, ax=axes[1]).set_xticklabels([\"no\", \"yes\"])\n",
    "axes[0].set_title(\"Males\")\n",
    "axes[1].set_title(\"Females\")"
   ]
  },
  {
   "cell_type": "markdown",
   "metadata": {},
   "source": [
    "## Alcohol consumption"
   ]
  },
  {
   "cell_type": "code",
   "execution_count": 28,
   "metadata": {},
   "outputs": [
    {
     "data": {
      "text/plain": [
       "Text(0.5, 1.0, 'Females')"
      ]
     },
     "execution_count": 28,
     "metadata": {},
     "output_type": "execute_result"
    },
    {
     "data": {
      "image/png": "[encoded data removed]",
      "text/plain": [
       "<Figure size 864x360 with 2 Axes>"
      ]
     },
     "metadata": {},
     "output_type": "display_data"
    }
   ],
   "source": [
    "f, axes = plt.subplots(1, 2, figsize=(12,5), sharey=True)\n",
    "sns.countplot(x = mdf.alco, hue = mdf.cardio, ax=axes[0]).set_xticklabels([\"no\", \"yes\"])\n",
    "sns.countplot(x = fdf.alco, hue = fdf.cardio, ax=axes[1]).set_xticklabels([\"no\", \"yes\"])\n",
    "axes[0].set_title(\"Males\")\n",
    "axes[1].set_title(\"Females\")"
   ]
  },
  {
   "cell_type": "markdown",
   "metadata": {},
   "source": [
    "## Physical activity "
   ]
  },
  {
   "cell_type": "code",
   "execution_count": 29,
   "metadata": {},
   "outputs": [
    {
     "data": {
      "text/plain": [
       "<matplotlib.axes._subplots.AxesSubplot at 0x1fab2ebd108>"
      ]
     },
     "execution_count": 29,
     "metadata": {},
     "output_type": "execute_result"
    },
    {
     "data": {
      "image/png": "[encoded data removed]",
      "text/plain": [
       "<Figure size 432x288 with 1 Axes>"
      ]
     },
     "metadata": {},
     "output_type": "display_data"
    }
   ],
   "source": [
    "sns.countplot(x = df.active, hue = df.cardio)"
   ]
  },
  {
   "cell_type": "markdown",
   "metadata": {},
   "source": [
    "## Age"
   ]
  },
  {
   "cell_type": "code",
   "execution_count": 30,
   "metadata": {},
   "outputs": [
    {
     "data": {
      "text/plain": [
       "Text(0.5, 1.0, 'age distribution')"
      ]
     },
     "execution_count": 30,
     "metadata": {},
     "output_type": "execute_result"
    },
    {
     "data": {
      "image/png": "[encoded data removed]",
      "text/plain": [
       "<Figure size 720x360 with 1 Axes>"
      ]
     },
     "metadata": {},
     "output_type": "display_data"
    }
   ],
   "source": [
    "plt.figure(figsize=(10,5))\n",
    "sns.histplot(x = df.age, hue = df.cardio, bins = 20).set_title(\"age distribution\")"
   ]
  },
  {
   "cell_type": "markdown",
   "metadata": {},
   "source": [
    "Older folks tend to have higher likelihood of cardiac disease"
   ]
  },
  {
   "cell_type": "code",
   "execution_count": 31,
   "metadata": {},
   "outputs": [],
   "source": [
    "#subsetting active and not-active \n",
    "ndf = df[df.active==0]\n",
    "adf = df[df.active==1]"
   ]
  },
  {
   "cell_type": "code",
   "execution_count": 32,
   "metadata": {},
   "outputs": [
    {
     "data": {
      "text/plain": [
       "Text(0.5, 1.0, 'age distribution for active population')"
      ]
     },
     "execution_count": 32,
     "metadata": {},
     "output_type": "execute_result"
    },
    {
     "data": {
      "image/png": "[encoded data removed]",
      "text/plain": [
       "<Figure size 1080x360 with 2 Axes>"
      ]
     },
     "metadata": {},
     "output_type": "display_data"
    }
   ],
   "source": [
    "f, axes = plt.subplots(1, 2, figsize=(15,5), sharey=True)\n",
    "\n",
    "sns.histplot(x = ndf.age, hue = ndf.cardio, bins = 20, ax=axes[0]).set_title(\"age distribution for non-active population\")\n",
    "sns.histplot(x = adf.age, hue = adf.cardio, bins = 20, ax=axes[1]).set_title(\"age distribution for active population\")"
   ]
  },
  {
   "cell_type": "markdown",
   "metadata": {},
   "source": [
    "Cannot suggest cardiovascular risk from this data when the non-active subset is much smaller than the active population."
   ]
  },
  {
   "cell_type": "code",
   "execution_count": 33,
   "metadata": {},
   "outputs": [
    {
     "data": {
      "text/plain": [
       "Text(0.5, 1.0, 'ap_hi vs ap_lo')"
      ]
     },
     "execution_count": 33,
     "metadata": {},
     "output_type": "execute_result"
    },
    {
     "data": {
      "image/png": "[encoded data removed]",
      "text/plain": [
       "<Figure size 432x288 with 1 Axes>"
      ]
     },
     "metadata": {},
     "output_type": "display_data"
    }
   ],
   "source": [
    "#ap_hi and ap_lo\n",
    "sns.scatterplot(x = df.ap_hi, y = df.ap_lo, hue = df.cardio).set_title(\"ap_hi vs ap_lo\")"
   ]
  },
  {
   "cell_type": "code",
   "execution_count": 34,
   "metadata": {},
   "outputs": [
    {
     "data": {
      "text/html": [
       "<div>\n",
       "<style scoped>\n",
       "    .dataframe tbody tr th:only-of-type {\n",
       "        vertical-align: middle;\n",
       "    }\n",
       "\n",
       "    .dataframe tbody tr th {\n",
       "        vertical-align: top;\n",
       "    }\n",
       "\n",
       "    .dataframe thead th {\n",
       "        text-align: right;\n",
       "    }\n",
       "</style>\n",
       "<table border=\"1\" class=\"dataframe\">\n",
       "  <thead>\n",
       "    <tr style=\"text-align: right;\">\n",
       "      <th></th>\n",
       "      <th>id</th>\n",
       "      <th>age</th>\n",
       "      <th>gender</th>\n",
       "      <th>height</th>\n",
       "      <th>weight</th>\n",
       "      <th>ap_hi</th>\n",
       "      <th>ap_lo</th>\n",
       "      <th>cholesterol</th>\n",
       "      <th>gluc</th>\n",
       "      <th>smoke</th>\n",
       "      <th>alco</th>\n",
       "      <th>active</th>\n",
       "      <th>cardio</th>\n",
       "    </tr>\n",
       "  </thead>\n",
       "  <tbody>\n",
       "    <tr>\n",
       "      <th>5465</th>\n",
       "      <td>7770</td>\n",
       "      <td>53</td>\n",
       "      <td>1</td>\n",
       "      <td>162</td>\n",
       "      <td>67.0</td>\n",
       "      <td>179</td>\n",
       "      <td>113</td>\n",
       "      <td>1</td>\n",
       "      <td>2</td>\n",
       "      <td>0</td>\n",
       "      <td>0</td>\n",
       "      <td>0</td>\n",
       "      <td>1</td>\n",
       "    </tr>\n",
       "    <tr>\n",
       "      <th>14134</th>\n",
       "      <td>20177</td>\n",
       "      <td>59</td>\n",
       "      <td>2</td>\n",
       "      <td>173</td>\n",
       "      <td>128.0</td>\n",
       "      <td>179</td>\n",
       "      <td>113</td>\n",
       "      <td>1</td>\n",
       "      <td>1</td>\n",
       "      <td>1</td>\n",
       "      <td>1</td>\n",
       "      <td>1</td>\n",
       "      <td>1</td>\n",
       "    </tr>\n",
       "    <tr>\n",
       "      <th>21991</th>\n",
       "      <td>31406</td>\n",
       "      <td>56</td>\n",
       "      <td>1</td>\n",
       "      <td>161</td>\n",
       "      <td>88.0</td>\n",
       "      <td>179</td>\n",
       "      <td>102</td>\n",
       "      <td>1</td>\n",
       "      <td>2</td>\n",
       "      <td>0</td>\n",
       "      <td>0</td>\n",
       "      <td>1</td>\n",
       "      <td>1</td>\n",
       "    </tr>\n",
       "    <tr>\n",
       "      <th>39296</th>\n",
       "      <td>56128</td>\n",
       "      <td>59</td>\n",
       "      <td>1</td>\n",
       "      <td>160</td>\n",
       "      <td>101.0</td>\n",
       "      <td>179</td>\n",
       "      <td>72</td>\n",
       "      <td>3</td>\n",
       "      <td>2</td>\n",
       "      <td>0</td>\n",
       "      <td>0</td>\n",
       "      <td>1</td>\n",
       "      <td>1</td>\n",
       "    </tr>\n",
       "  </tbody>\n",
       "</table>\n",
       "</div>"
      ],
      "text/plain": [
       "          id  age  gender  height  weight  ap_hi  ap_lo  cholesterol  gluc  \\\n",
       "5465    7770   53       1     162    67.0    179    113            1     2   \n",
       "14134  20177   59       2     173   128.0    179    113            1     1   \n",
       "21991  31406   56       1     161    88.0    179    102            1     2   \n",
       "39296  56128   59       1     160   101.0    179     72            3     2   \n",
       "\n",
       "       smoke  alco  active  cardio  \n",
       "5465       0     0       0       1  \n",
       "14134      1     1       1       1  \n",
       "21991      0     0       1       1  \n",
       "39296      0     0       1       1  "
      ]
     },
     "execution_count": 34,
     "metadata": {},
     "output_type": "execute_result"
    }
   ],
   "source": [
    "df[df.ap_hi==df.ap_hi.max()]"
   ]
  },
  {
   "cell_type": "code",
   "execution_count": 35,
   "metadata": {},
   "outputs": [
    {
     "data": {
      "text/plain": [
       "Text(0.5, 1.0, 'ap_hi distribution')"
      ]
     },
     "execution_count": 35,
     "metadata": {},
     "output_type": "execute_result"
    },
    {
     "data": {
      "image/png": "[encoded data removed]",
      "text/plain": [
       "<Figure size 720x360 with 1 Axes>"
      ]
     },
     "metadata": {},
     "output_type": "display_data"
    }
   ],
   "source": [
    "plt.figure(figsize=(10,5))\n",
    "sns.histplot(x = df.ap_hi, hue = df.cardio, bins = 10).set_title(\"ap_hi distribution\")"
   ]
  },
  {
   "cell_type": "code",
   "execution_count": 36,
   "metadata": {},
   "outputs": [
    {
     "data": {
      "text/plain": [
       "Text(0.5, 1.0, 'ap_lo distribution')"
      ]
     },
     "execution_count": 36,
     "metadata": {},
     "output_type": "execute_result"
    },
    {
     "data": {
      "image/png": "[encoded data removed]",
      "text/plain": [
       "<Figure size 720x360 with 1 Axes>"
      ]
     },
     "metadata": {},
     "output_type": "display_data"
    }
   ],
   "source": [
    "plt.figure(figsize=(10,5))\n",
    "sns.histplot(x = df.ap_lo, hue = df.cardio, bins = 10).set_title(\"ap_lo distribution\")"
   ]
  },
  {
   "cell_type": "markdown",
   "metadata": {},
   "source": [
    "Both generally see increase in cardiovascular disease presence at higher numbers"
   ]
  },
  {
   "cell_type": "markdown",
   "metadata": {},
   "source": [
    "# Feature generation\n",
    "- using ap_hi/ap_lo for blood pressure\n",
    "- using height/weight for BMI"
   ]
  },
  {
   "cell_type": "markdown",
   "metadata": {},
   "source": [
    "### Blood Pressure\n",
    "- if systolic is less than 120 and diastolic is less than 80 = normal BP\n",
    "- if systolic is less than 129 and diastolic is less than 80 = elevated\n",
    "- if systolic is less than 139 and diastolic is less than 89 = stage 1 high blood pressure\n",
    "- if systolic is less than 180 and diastolic is less than 120 = stage 2 high BP"
   ]
  },
  {
   "cell_type": "code",
   "execution_count": 37,
   "metadata": {},
   "outputs": [],
   "source": [
    "bpconditions = [\n",
    "    (df.ap_hi < 120) & (df.ap_lo <= 80),\n",
    "    (df.ap_hi < 129) & (df.ap_lo < 80),\n",
    "    (df.ap_hi < 139) & (df.ap_lo < 89),\n",
    "    (df.ap_hi <= 180) & (df.ap_lo <= 120) \n",
    "]\n",
    "\n",
    "bpvalues = [\"Normal BP\", \"Elevated BP\", \"Stage 1 High BP\", \"Stage 2 High BP\"]\n",
    "df['Blood Pressure'] = np.select(bpconditions, bpvalues)"
   ]
  },
  {
   "cell_type": "code",
   "execution_count": 38,
   "metadata": {
    "scrolled": true
   },
   "outputs": [
    {
     "data": {
      "text/plain": [
       "Text(0.5, 1.0, 'BP distribution')"
      ]
     },
     "execution_count": 38,
     "metadata": {},
     "output_type": "execute_result"
    },
    {
     "data": {
      "image/png": "[encoded data removed]",
      "text/plain": [
       "<Figure size 720x360 with 1 Axes>"
      ]
     },
     "metadata": {},
     "output_type": "display_data"
    }
   ],
   "source": [
    "plt.figure(figsize=(10,5))\n",
    "sns.histplot(x = df['Blood Pressure'], hue = df.cardio).set_title(\"BP distribution\")"
   ]
  },
  {
   "cell_type": "code",
   "execution_count": 39,
   "metadata": {},
   "outputs": [],
   "source": [
    "#creating BMI variable \n",
    "df['BMI'] = df.weight / (df.height/100)**2"
   ]
  },
  {
   "cell_type": "code",
   "execution_count": 40,
   "metadata": {},
   "outputs": [
    {
     "data": {
      "text/plain": [
       "count    67582.000000\n",
       "mean        27.386227\n",
       "std          5.159612\n",
       "min          3.471784\n",
       "25%         23.875115\n",
       "50%         26.291724\n",
       "75%         30.103806\n",
       "max         85.779743\n",
       "Name: BMI, dtype: float64"
      ]
     },
     "execution_count": 40,
     "metadata": {},
     "output_type": "execute_result"
    }
   ],
   "source": [
    "df.BMI.describe()"
   ]
  },
  {
   "cell_type": "code",
   "execution_count": 41,
   "metadata": {},
   "outputs": [
    {
     "data": {
      "text/plain": [
       "Text(0.5, 1.0, 'BMI distribution')"
      ]
     },
     "execution_count": 41,
     "metadata": {},
     "output_type": "execute_result"
    },
    {
     "data": {
      "image/png": "[encoded data removed]",
      "text/plain": [
       "<Figure size 720x360 with 1 Axes>"
      ]
     },
     "metadata": {},
     "output_type": "display_data"
    }
   ],
   "source": [
    "#BMI\n",
    "plt.figure(figsize=(10,5))\n",
    "sns.histplot(x = df.BMI, hue = df.cardio, bins = 40).set_title(\"BMI distribution\")"
   ]
  },
  {
   "cell_type": "code",
   "execution_count": 42,
   "metadata": {},
   "outputs": [],
   "source": [
    "df = df[df.BMI < 50] #removing outliers"
   ]
  },
  {
   "cell_type": "markdown",
   "metadata": {},
   "source": [
    "Higher BMI = more risk of cardiovascular disease"
   ]
  },
  {
   "cell_type": "markdown",
   "metadata": {},
   "source": [
    "# Data Mining\n",
    "- Data Mining using feature_importances and permutation_importance with Random Forest\n",
    "- FPGrowth"
   ]
  },
  {
   "cell_type": "code",
   "execution_count": 127,
   "metadata": {},
   "outputs": [],
   "source": [
    "from sklearn.ensemble import RandomForestClassifier\n",
    "from sklearn.model_selection import train_test_split\n",
    "from sklearn.linear_model import LogisticRegression as LR\n",
    "from sklearn.metrics import mean_squared_error, confusion_matrix, roc_auc_score, mean_absolute_error, classification_report\n",
    "from sklearn import preprocessing\n",
    "from sklearn.inspection import permutation_importance\n",
    "from math import sqrt"
   ]
  },
  {
   "cell_type": "code",
   "execution_count": 134,
   "metadata": {},
   "outputs": [],
   "source": [
    "def featimportances(X, y):\n",
    "    train_X, val_X, train_y, val_y = train_test_split(X, y, random_state=1)\n",
    "\n",
    "    clf = RandomForestClassifier(random_state=1)\n",
    "    clf = clf.fit(train_X, train_y)\n",
    "    val_pred = clf.predict(val_X)\n",
    "    val_rmse = sqrt(mean_squared_error(val_pred, val_y))\n",
    "    val_mae = mean_absolute_error(val_pred, val_y)\n",
    "\n",
    "    print('Model scores:')\n",
    "    print(f'R^2: {clf.score(train_X, train_y):.2f}\\nValidation RMSE: {val_rmse:.2f} \\nValidation MAE: {val_mae:.2f}')\n",
    "    print(\"auROC score:\", round(roc_auc_score(val_y, val_pred),2),'\\n')\n",
    "    print(classification_report(val_y, val_pred),'\\n')\n",
    "\n",
    "    importances = clf.feature_importances_\n",
    "    std = np.std([tree.feature_importances_ for tree in clf.estimators_],axis=0)\n",
    "    indices = np.argsort(importances)[::-1]\n",
    "\n",
    "    print(\"Feature ranking:\")\n",
    "    for f in range (train_X.shape[1]):\n",
    "        featurelist = []\n",
    "        featurelist.append(X.columns[indices[f]])\n",
    "        print(f + 1,\"\\t\", X.columns[indices[f]], importances[indices[f]])\n",
    "\n",
    "    plt.figure()\n",
    "    plt.title(\"Feature importances\")\n",
    "    plt.bar(range(train_X.shape[1]), importances[indices],\n",
    "            color=\"r\", yerr=std[indices], align=\"center\")\n",
    "    plt.xticks(range(train_X.shape[1]), indices)\n",
    "    plt.xlim([-1, train_X.shape[1]])\n",
    "    plt.show()\n",
    "\n",
    "    from sklearn.inspection import permutation_importance\n",
    "\n",
    "    #Permutation importances\n",
    "    print('Permutation Importances')\n",
    "    a,b,c = [],[],[]\n",
    "    r = permutation_importance(clf, val_X, val_y)\n",
    "    for i in r.importances_mean.argsort()[::-1]:\n",
    "        if r.importances_mean[i] - 2 * r.importances_std[i] > 0:\n",
    "            a.append(r.importances_mean[i])\n",
    "            b.append(str(i+1))\n",
    "            c.append(r.importances_std[i])\n",
    "            print(f\"{i+1} \\t\"\n",
    "                  f\"{X.columns[i]:<8} \\t\"\n",
    "                  f\"{r.importances_mean[i]:.3f}\"\n",
    "                  f\" +/- {r.importances_std[i]:.3f}\")\n",
    "\n",
    "    plt.figure(figsize=(12,8))\n",
    "    plt.title(\"Permutation importances\")\n",
    "    plt.bar(b, a, yerr=c, color=\"r\", align=\"center\")\n",
    "    plt.xticks(b)\n",
    "    plt.show()"
   ]
  },
  {
   "cell_type": "code",
   "execution_count": 135,
   "metadata": {},
   "outputs": [
    {
     "name": "stdout",
     "output_type": "stream",
     "text": [
      "Model scores:\n",
      "R^2: 0.98\n",
      "Validation RMSE: 0.55 \n",
      "Validation MAE: 0.30\n",
      "auROC score: 0.7 \n",
      "\n",
      "              precision    recall  f1-score   support\n",
      "\n",
      "           0       0.70      0.72      0.71      8565\n",
      "           1       0.70      0.68      0.69      8296\n",
      "\n",
      "    accuracy                           0.70     16861\n",
      "   macro avg       0.70      0.70      0.70     16861\n",
      "weighted avg       0.70      0.70      0.70     16861\n",
      " \n",
      "\n",
      "Feature ranking:\n",
      "1 \t BMI 0.1906667774744718\n",
      "2 \t ap_hi 0.17849925328829197\n",
      "3 \t age 0.16324198642171853\n",
      "4 \t weight 0.13856279713480715\n",
      "5 \t height 0.13186765228615602\n",
      "6 \t ap_lo 0.08449078593520648\n",
      "7 \t cholesterol 0.03959029773786482\n",
      "8 \t gender 0.02006664008646105\n",
      "9 \t gluc 0.018605410887384117\n",
      "10 \t active 0.01630605901061295\n",
      "11 \t smoke 0.010077288219800438\n",
      "12 \t alco 0.008025051517224617\n"
     ]
    },
    {
     "data": {
      "image/png": "[encoded data removed]",
      "text/plain": [
       "<Figure size 432x288 with 1 Axes>"
      ]
     },
     "metadata": {},
     "output_type": "display_data"
    },
    {
     "name": "stdout",
     "output_type": "stream",
     "text": [
      "Permutation Importances\n",
      "5 \tap_hi    \t0.130 +/- 0.004\n",
      "7 \tcholesterol \t0.030 +/- 0.002\n",
      "3 \tage      \t0.023 +/- 0.003\n",
      "4 \talco     \t0.001 +/- 0.000\n"
     ]
    },
    {
     "data": {
      "image/png": "[encoded data removed]",
      "text/plain": [
       "<Figure size 864x576 with 1 Axes>"
      ]
     },
     "metadata": {},
     "output_type": "display_data"
    }
   ],
   "source": [
    "y1 = df.cardio\n",
    "X1 = df[df.columns.difference(['cardio','id','Blood Pressure'])]\n",
    "\n",
    "featimportances(X1,y1)"
   ]
  },
  {
   "cell_type": "markdown",
   "metadata": {},
   "source": [
    "Systolic blood pressure is the most important, followed by cholesterol and age. However blood pressure columns are tricky because they may also be a symptom of cardiovascular disease, thus a false indicator and can skew results to be more accurate than should be"
   ]
  },
  {
   "cell_type": "code",
   "execution_count": 136,
   "metadata": {},
   "outputs": [
    {
     "name": "stdout",
     "output_type": "stream",
     "text": [
      "Model scores:\n",
      "R^2: 0.93\n",
      "Validation RMSE: 0.63 \n",
      "Validation MAE: 0.40\n",
      "auROC score: 0.6 \n",
      "\n",
      "              precision    recall  f1-score   support\n",
      "\n",
      "           0       0.60      0.61      0.61      8565\n",
      "           1       0.59      0.58      0.59      8296\n",
      "\n",
      "    accuracy                           0.60     16861\n",
      "   macro avg       0.60      0.60      0.60     16861\n",
      "weighted avg       0.60      0.60      0.60     16861\n",
      " \n",
      "\n",
      "Feature ranking:\n",
      "1 \t BMI 0.26629120663222483\n",
      "2 \t age 0.2430207937942065\n",
      "3 \t weight 0.17589232356301301\n",
      "4 \t height 0.172304109888405\n",
      "5 \t cholesterol 0.0498509816938779\n",
      "6 \t gender 0.023781281348077655\n",
      "7 \t gluc 0.023319644042598453\n",
      "8 \t active 0.019137887170531068\n",
      "9 \t smoke 0.014227931934148827\n",
      "10 \t alco 0.012173839932916722\n"
     ]
    },
    {
     "data": {
      "image/png": "[encoded data removed]",
      "text/plain": [
       "<Figure size 432x288 with 1 Axes>"
      ]
     },
     "metadata": {},
     "output_type": "display_data"
    },
    {
     "name": "stdout",
     "output_type": "stream",
     "text": [
      "Permutation Importances\n",
      "3 \tage      \t0.038 +/- 0.002\n",
      "5 \tcholesterol \t0.031 +/- 0.002\n"
     ]
    },
    {
     "data": {
      "image/png": "[encoded data removed]",
      "text/plain": [
       "<Figure size 864x576 with 1 Axes>"
      ]
     },
     "metadata": {},
     "output_type": "display_data"
    }
   ],
   "source": [
    "y2 = df.cardio\n",
    "X2 = df[df.columns.difference(['cardio','id','Blood Pressure','ap_hi','ap_lo'])]\n",
    "\n",
    "featimportances(X2, y2)"
   ]
  },
  {
   "cell_type": "code",
   "execution_count": 137,
   "metadata": {},
   "outputs": [
    {
     "name": "stdout",
     "output_type": "stream",
     "text": [
      "Model scores:\n",
      "R^2: 0.93\n",
      "Validation RMSE: 0.64 \n",
      "Validation MAE: 0.41\n",
      "auROC score: 0.59 \n",
      "\n",
      "              precision    recall  f1-score   support\n",
      "\n",
      "           0       0.60      0.61      0.61      8565\n",
      "           1       0.59      0.57      0.58      8296\n",
      "\n",
      "    accuracy                           0.59     16861\n",
      "   macro avg       0.59      0.59      0.59     16861\n",
      "weighted avg       0.59      0.59      0.59     16861\n",
      " \n",
      "\n",
      "Feature ranking:\n",
      "1 \t weight 0.331665730506899\n",
      "2 \t height 0.32444531446317104\n",
      "3 \t age 0.21564431939276327\n",
      "4 \t cholesterol 0.051302805122317746\n",
      "5 \t gluc 0.02079328642674551\n",
      "6 \t gender 0.018880507748286687\n",
      "7 \t active 0.014688475978514921\n",
      "8 \t smoke 0.011751120263147275\n",
      "9 \t alco 0.010828440098154516\n"
     ]
    },
    {
     "data": {
      "image/png": "[encoded data removed]",
      "text/plain": [
       "<Figure size 432x288 with 1 Axes>"
      ]
     },
     "metadata": {},
     "output_type": "display_data"
    },
    {
     "name": "stdout",
     "output_type": "stream",
     "text": [
      "Permutation Importances\n",
      "4 \tcholesterol \t0.036 +/- 0.003\n",
      "2 \tage      \t0.035 +/- 0.003\n",
      "9 \tweight   \t0.020 +/- 0.002\n"
     ]
    },
    {
     "data": {
      "image/png": "[encoded data removed]",
      "text/plain": [
       "<Figure size 864x576 with 1 Axes>"
      ]
     },
     "metadata": {},
     "output_type": "display_data"
    }
   ],
   "source": [
    "y3 = df.cardio\n",
    "X3 = df[df.columns.difference(['cardio','id','Blood Pressure','BMI','ap_hi','ap_lo'])]\n",
    "#feature generation may poorly bucketize categories and lose nuance in data; removed BMI as well\n",
    "\n",
    "featimportances(X3, y3)"
   ]
  },
  {
   "cell_type": "markdown",
   "metadata": {},
   "source": [
    "- cholesterol and age seems to be a constant in each model, followed by weight"
   ]
  },
  {
   "cell_type": "markdown",
   "metadata": {},
   "source": [
    "# FPGrowth Preprocessing\n",
    "- First preprocessing of the dataset to categorical variables (bucketizing continuous variables/large range)\n",
    "- Age will be bucketized, and the categorical variables will be factored to improve readability of results\n",
    "- height and weight will be combined and binned for BMI\n",
    "- ap_hi and ap_lo will be combined and binned for blood pressure\n",
    "- binning is only for purposes of FPGrowth, these columns will not be used for modelling"
   ]
  },
  {
   "cell_type": "code",
   "execution_count": 50,
   "metadata": {},
   "outputs": [],
   "source": [
    "fpdf = df.copy()"
   ]
  },
  {
   "cell_type": "code",
   "execution_count": 51,
   "metadata": {},
   "outputs": [
    {
     "data": {
      "text/html": [
       "<div>\n",
       "<style scoped>\n",
       "    .dataframe tbody tr th:only-of-type {\n",
       "        vertical-align: middle;\n",
       "    }\n",
       "\n",
       "    .dataframe tbody tr th {\n",
       "        vertical-align: top;\n",
       "    }\n",
       "\n",
       "    .dataframe thead th {\n",
       "        text-align: right;\n",
       "    }\n",
       "</style>\n",
       "<table border=\"1\" class=\"dataframe\">\n",
       "  <thead>\n",
       "    <tr style=\"text-align: right;\">\n",
       "      <th></th>\n",
       "      <th>id</th>\n",
       "      <th>age</th>\n",
       "      <th>gender</th>\n",
       "      <th>height</th>\n",
       "      <th>weight</th>\n",
       "      <th>ap_hi</th>\n",
       "      <th>ap_lo</th>\n",
       "      <th>cholesterol</th>\n",
       "      <th>gluc</th>\n",
       "      <th>smoke</th>\n",
       "      <th>alco</th>\n",
       "      <th>active</th>\n",
       "      <th>cardio</th>\n",
       "      <th>Blood Pressure</th>\n",
       "      <th>BMI</th>\n",
       "    </tr>\n",
       "  </thead>\n",
       "  <tbody>\n",
       "    <tr>\n",
       "      <th>0</th>\n",
       "      <td>0</td>\n",
       "      <td>50</td>\n",
       "      <td>2</td>\n",
       "      <td>168</td>\n",
       "      <td>62.0</td>\n",
       "      <td>110</td>\n",
       "      <td>80</td>\n",
       "      <td>1</td>\n",
       "      <td>1</td>\n",
       "      <td>0</td>\n",
       "      <td>0</td>\n",
       "      <td>1</td>\n",
       "      <td>0</td>\n",
       "      <td>Normal BP</td>\n",
       "      <td>21.967120</td>\n",
       "    </tr>\n",
       "    <tr>\n",
       "      <th>1</th>\n",
       "      <td>1</td>\n",
       "      <td>55</td>\n",
       "      <td>1</td>\n",
       "      <td>156</td>\n",
       "      <td>85.0</td>\n",
       "      <td>140</td>\n",
       "      <td>90</td>\n",
       "      <td>3</td>\n",
       "      <td>1</td>\n",
       "      <td>0</td>\n",
       "      <td>0</td>\n",
       "      <td>1</td>\n",
       "      <td>1</td>\n",
       "      <td>Stage 2 High BP</td>\n",
       "      <td>34.927679</td>\n",
       "    </tr>\n",
       "    <tr>\n",
       "      <th>2</th>\n",
       "      <td>2</td>\n",
       "      <td>51</td>\n",
       "      <td>1</td>\n",
       "      <td>165</td>\n",
       "      <td>64.0</td>\n",
       "      <td>130</td>\n",
       "      <td>70</td>\n",
       "      <td>3</td>\n",
       "      <td>1</td>\n",
       "      <td>0</td>\n",
       "      <td>0</td>\n",
       "      <td>0</td>\n",
       "      <td>1</td>\n",
       "      <td>Stage 1 High BP</td>\n",
       "      <td>23.507805</td>\n",
       "    </tr>\n",
       "    <tr>\n",
       "      <th>3</th>\n",
       "      <td>3</td>\n",
       "      <td>48</td>\n",
       "      <td>2</td>\n",
       "      <td>169</td>\n",
       "      <td>82.0</td>\n",
       "      <td>150</td>\n",
       "      <td>100</td>\n",
       "      <td>1</td>\n",
       "      <td>1</td>\n",
       "      <td>0</td>\n",
       "      <td>0</td>\n",
       "      <td>1</td>\n",
       "      <td>1</td>\n",
       "      <td>Stage 2 High BP</td>\n",
       "      <td>28.710479</td>\n",
       "    </tr>\n",
       "    <tr>\n",
       "      <th>4</th>\n",
       "      <td>4</td>\n",
       "      <td>47</td>\n",
       "      <td>1</td>\n",
       "      <td>156</td>\n",
       "      <td>56.0</td>\n",
       "      <td>100</td>\n",
       "      <td>60</td>\n",
       "      <td>1</td>\n",
       "      <td>1</td>\n",
       "      <td>0</td>\n",
       "      <td>0</td>\n",
       "      <td>0</td>\n",
       "      <td>0</td>\n",
       "      <td>Normal BP</td>\n",
       "      <td>23.011177</td>\n",
       "    </tr>\n",
       "  </tbody>\n",
       "</table>\n",
       "</div>"
      ],
      "text/plain": [
       "   id  age  gender  height  weight  ap_hi  ap_lo  cholesterol  gluc  smoke  \\\n",
       "0   0   50       2     168    62.0    110     80            1     1      0   \n",
       "1   1   55       1     156    85.0    140     90            3     1      0   \n",
       "2   2   51       1     165    64.0    130     70            3     1      0   \n",
       "3   3   48       2     169    82.0    150    100            1     1      0   \n",
       "4   4   47       1     156    56.0    100     60            1     1      0   \n",
       "\n",
       "   alco  active  cardio   Blood Pressure        BMI  \n",
       "0     0       1       0        Normal BP  21.967120  \n",
       "1     0       1       1  Stage 2 High BP  34.927679  \n",
       "2     0       0       1  Stage 1 High BP  23.507805  \n",
       "3     0       1       1  Stage 2 High BP  28.710479  \n",
       "4     0       0       0        Normal BP  23.011177  "
      ]
     },
     "execution_count": 51,
     "metadata": {},
     "output_type": "execute_result"
    }
   ],
   "source": [
    "fpdf.head(5)"
   ]
  },
  {
   "cell_type": "code",
   "execution_count": 52,
   "metadata": {},
   "outputs": [
    {
     "data": {
      "text/plain": [
       "count    67442.000000\n",
       "mean        52.794134\n",
       "std          6.774067\n",
       "min         29.000000\n",
       "25%         48.000000\n",
       "50%         53.000000\n",
       "75%         58.000000\n",
       "max         64.000000\n",
       "Name: age, dtype: float64"
      ]
     },
     "execution_count": 52,
     "metadata": {},
     "output_type": "execute_result"
    }
   ],
   "source": [
    "#age \n",
    "fpdf.age.describe()\n",
    "#29 to 64"
   ]
  },
  {
   "cell_type": "code",
   "execution_count": 53,
   "metadata": {},
   "outputs": [],
   "source": [
    "fpdf.age = pd.cut(fpdf.age, [29,40,55,70], labels = [\"Age: 29-40\",\"Age: 41-55\",\"Age: 56+\"])"
   ]
  },
  {
   "cell_type": "markdown",
   "metadata": {},
   "source": [
    "### BMI\n",
    "- Underweight = 18 or below,\n",
    "- Healthy = 19-24,\n",
    "- Overweight = 25-29,\n",
    "- Obese = 30-39,\n",
    "- Morbidly obese = 40+"
   ]
  },
  {
   "cell_type": "code",
   "execution_count": 54,
   "metadata": {},
   "outputs": [],
   "source": [
    "fpdf.BMI = pd.cut(fpdf.BMI, [0,18,25,30,40,100], labels = [\"Underweight\",'Healthy weight','Overweight','Obese','Morbidly obese'])"
   ]
  },
  {
   "cell_type": "code",
   "execution_count": 55,
   "metadata": {},
   "outputs": [],
   "source": [
    "fpdf.drop(columns=[\"height\",\"weight\",\"ap_hi\",\"ap_lo\"], inplace=True) \n",
    "#These columns will be dropped and the generated feature will be used"
   ]
  },
  {
   "cell_type": "code",
   "execution_count": 56,
   "metadata": {},
   "outputs": [
    {
     "data": {
      "text/html": [
       "<div>\n",
       "<style scoped>\n",
       "    .dataframe tbody tr th:only-of-type {\n",
       "        vertical-align: middle;\n",
       "    }\n",
       "\n",
       "    .dataframe tbody tr th {\n",
       "        vertical-align: top;\n",
       "    }\n",
       "\n",
       "    .dataframe thead th {\n",
       "        text-align: right;\n",
       "    }\n",
       "</style>\n",
       "<table border=\"1\" class=\"dataframe\">\n",
       "  <thead>\n",
       "    <tr style=\"text-align: right;\">\n",
       "      <th></th>\n",
       "      <th>id</th>\n",
       "      <th>age</th>\n",
       "      <th>gender</th>\n",
       "      <th>cholesterol</th>\n",
       "      <th>gluc</th>\n",
       "      <th>smoke</th>\n",
       "      <th>alco</th>\n",
       "      <th>active</th>\n",
       "      <th>cardio</th>\n",
       "      <th>Blood Pressure</th>\n",
       "      <th>BMI</th>\n",
       "    </tr>\n",
       "  </thead>\n",
       "  <tbody>\n",
       "    <tr>\n",
       "      <th>69993</th>\n",
       "      <td>99991</td>\n",
       "      <td>Age: 41-55</td>\n",
       "      <td>1</td>\n",
       "      <td>1</td>\n",
       "      <td>1</td>\n",
       "      <td>0</td>\n",
       "      <td>0</td>\n",
       "      <td>1</td>\n",
       "      <td>1</td>\n",
       "      <td>Stage 2 High BP</td>\n",
       "      <td>Healthy weight</td>\n",
       "    </tr>\n",
       "    <tr>\n",
       "      <th>69994</th>\n",
       "      <td>99992</td>\n",
       "      <td>Age: 56+</td>\n",
       "      <td>1</td>\n",
       "      <td>1</td>\n",
       "      <td>1</td>\n",
       "      <td>0</td>\n",
       "      <td>0</td>\n",
       "      <td>1</td>\n",
       "      <td>1</td>\n",
       "      <td>Stage 2 High BP</td>\n",
       "      <td>Overweight</td>\n",
       "    </tr>\n",
       "    <tr>\n",
       "      <th>69995</th>\n",
       "      <td>99993</td>\n",
       "      <td>Age: 41-55</td>\n",
       "      <td>2</td>\n",
       "      <td>1</td>\n",
       "      <td>1</td>\n",
       "      <td>1</td>\n",
       "      <td>0</td>\n",
       "      <td>1</td>\n",
       "      <td>0</td>\n",
       "      <td>Stage 1 High BP</td>\n",
       "      <td>Overweight</td>\n",
       "    </tr>\n",
       "    <tr>\n",
       "      <th>69998</th>\n",
       "      <td>99998</td>\n",
       "      <td>Age: 56+</td>\n",
       "      <td>1</td>\n",
       "      <td>1</td>\n",
       "      <td>2</td>\n",
       "      <td>0</td>\n",
       "      <td>0</td>\n",
       "      <td>0</td>\n",
       "      <td>1</td>\n",
       "      <td>Stage 1 High BP</td>\n",
       "      <td>Overweight</td>\n",
       "    </tr>\n",
       "    <tr>\n",
       "      <th>69999</th>\n",
       "      <td>99999</td>\n",
       "      <td>Age: 56+</td>\n",
       "      <td>1</td>\n",
       "      <td>2</td>\n",
       "      <td>1</td>\n",
       "      <td>0</td>\n",
       "      <td>0</td>\n",
       "      <td>1</td>\n",
       "      <td>0</td>\n",
       "      <td>Stage 1 High BP</td>\n",
       "      <td>Healthy weight</td>\n",
       "    </tr>\n",
       "  </tbody>\n",
       "</table>\n",
       "</div>"
      ],
      "text/plain": [
       "          id         age  gender  cholesterol  gluc  smoke  alco  active  \\\n",
       "69993  99991  Age: 41-55       1            1     1      0     0       1   \n",
       "69994  99992    Age: 56+       1            1     1      0     0       1   \n",
       "69995  99993  Age: 41-55       2            1     1      1     0       1   \n",
       "69998  99998    Age: 56+       1            1     2      0     0       0   \n",
       "69999  99999    Age: 56+       1            2     1      0     0       1   \n",
       "\n",
       "       cardio   Blood Pressure             BMI  \n",
       "69993       1  Stage 2 High BP  Healthy weight  \n",
       "69994       1  Stage 2 High BP      Overweight  \n",
       "69995       0  Stage 1 High BP      Overweight  \n",
       "69998       1  Stage 1 High BP      Overweight  \n",
       "69999       0  Stage 1 High BP  Healthy weight  "
      ]
     },
     "execution_count": 56,
     "metadata": {},
     "output_type": "execute_result"
    }
   ],
   "source": [
    "fpdf.tail()"
   ]
  },
  {
   "cell_type": "code",
   "execution_count": 57,
   "metadata": {
    "scrolled": true
   },
   "outputs": [
    {
     "data": {
      "text/html": [
       "<div>\n",
       "<style scoped>\n",
       "    .dataframe tbody tr th:only-of-type {\n",
       "        vertical-align: middle;\n",
       "    }\n",
       "\n",
       "    .dataframe tbody tr th {\n",
       "        vertical-align: top;\n",
       "    }\n",
       "\n",
       "    .dataframe thead th {\n",
       "        text-align: right;\n",
       "    }\n",
       "</style>\n",
       "<table border=\"1\" class=\"dataframe\">\n",
       "  <thead>\n",
       "    <tr style=\"text-align: right;\">\n",
       "      <th></th>\n",
       "      <th>id</th>\n",
       "      <th>age</th>\n",
       "      <th>gender</th>\n",
       "      <th>height</th>\n",
       "      <th>weight</th>\n",
       "      <th>ap_hi</th>\n",
       "      <th>ap_lo</th>\n",
       "      <th>cholesterol</th>\n",
       "      <th>gluc</th>\n",
       "      <th>smoke</th>\n",
       "      <th>alco</th>\n",
       "      <th>active</th>\n",
       "      <th>cardio</th>\n",
       "      <th>Blood Pressure</th>\n",
       "      <th>BMI</th>\n",
       "    </tr>\n",
       "  </thead>\n",
       "  <tbody>\n",
       "    <tr>\n",
       "      <th>69993</th>\n",
       "      <td>99991</td>\n",
       "      <td>53</td>\n",
       "      <td>1</td>\n",
       "      <td>172</td>\n",
       "      <td>70.0</td>\n",
       "      <td>130</td>\n",
       "      <td>90</td>\n",
       "      <td>1</td>\n",
       "      <td>1</td>\n",
       "      <td>0</td>\n",
       "      <td>0</td>\n",
       "      <td>1</td>\n",
       "      <td>1</td>\n",
       "      <td>Stage 2 High BP</td>\n",
       "      <td>23.661439</td>\n",
       "    </tr>\n",
       "    <tr>\n",
       "      <th>69994</th>\n",
       "      <td>99992</td>\n",
       "      <td>57</td>\n",
       "      <td>1</td>\n",
       "      <td>165</td>\n",
       "      <td>80.0</td>\n",
       "      <td>150</td>\n",
       "      <td>80</td>\n",
       "      <td>1</td>\n",
       "      <td>1</td>\n",
       "      <td>0</td>\n",
       "      <td>0</td>\n",
       "      <td>1</td>\n",
       "      <td>1</td>\n",
       "      <td>Stage 2 High BP</td>\n",
       "      <td>29.384757</td>\n",
       "    </tr>\n",
       "    <tr>\n",
       "      <th>69995</th>\n",
       "      <td>99993</td>\n",
       "      <td>52</td>\n",
       "      <td>2</td>\n",
       "      <td>168</td>\n",
       "      <td>76.0</td>\n",
       "      <td>120</td>\n",
       "      <td>80</td>\n",
       "      <td>1</td>\n",
       "      <td>1</td>\n",
       "      <td>1</td>\n",
       "      <td>0</td>\n",
       "      <td>1</td>\n",
       "      <td>0</td>\n",
       "      <td>Stage 1 High BP</td>\n",
       "      <td>26.927438</td>\n",
       "    </tr>\n",
       "    <tr>\n",
       "      <th>69998</th>\n",
       "      <td>99998</td>\n",
       "      <td>61</td>\n",
       "      <td>1</td>\n",
       "      <td>163</td>\n",
       "      <td>72.0</td>\n",
       "      <td>135</td>\n",
       "      <td>80</td>\n",
       "      <td>1</td>\n",
       "      <td>2</td>\n",
       "      <td>0</td>\n",
       "      <td>0</td>\n",
       "      <td>0</td>\n",
       "      <td>1</td>\n",
       "      <td>Stage 1 High BP</td>\n",
       "      <td>27.099251</td>\n",
       "    </tr>\n",
       "    <tr>\n",
       "      <th>69999</th>\n",
       "      <td>99999</td>\n",
       "      <td>56</td>\n",
       "      <td>1</td>\n",
       "      <td>170</td>\n",
       "      <td>72.0</td>\n",
       "      <td>120</td>\n",
       "      <td>80</td>\n",
       "      <td>2</td>\n",
       "      <td>1</td>\n",
       "      <td>0</td>\n",
       "      <td>0</td>\n",
       "      <td>1</td>\n",
       "      <td>0</td>\n",
       "      <td>Stage 1 High BP</td>\n",
       "      <td>24.913495</td>\n",
       "    </tr>\n",
       "  </tbody>\n",
       "</table>\n",
       "</div>"
      ],
      "text/plain": [
       "          id  age  gender  height  weight  ap_hi  ap_lo  cholesterol  gluc  \\\n",
       "69993  99991   53       1     172    70.0    130     90            1     1   \n",
       "69994  99992   57       1     165    80.0    150     80            1     1   \n",
       "69995  99993   52       2     168    76.0    120     80            1     1   \n",
       "69998  99998   61       1     163    72.0    135     80            1     2   \n",
       "69999  99999   56       1     170    72.0    120     80            2     1   \n",
       "\n",
       "       smoke  alco  active  cardio   Blood Pressure        BMI  \n",
       "69993      0     0       1       1  Stage 2 High BP  23.661439  \n",
       "69994      0     0       1       1  Stage 2 High BP  29.384757  \n",
       "69995      1     0       1       0  Stage 1 High BP  26.927438  \n",
       "69998      0     0       0       1  Stage 1 High BP  27.099251  \n",
       "69999      0     0       1       0  Stage 1 High BP  24.913495  "
      ]
     },
     "execution_count": 57,
     "metadata": {},
     "output_type": "execute_result"
    }
   ],
   "source": [
    "df.tail() #checking if encoding was done correctly"
   ]
  },
  {
   "cell_type": "markdown",
   "metadata": {},
   "source": [
    "## Categorical encoding\n",
    "- the purpose of this step is to make the output of FPGrowth more easily interpretable\n",
    "- however, for modeling, this step will be reverted"
   ]
  },
  {
   "cell_type": "code",
   "execution_count": 58,
   "metadata": {},
   "outputs": [],
   "source": [
    "cdf = fpdf.copy()\n",
    "di = {1: \"Male\", 2: \"Female\"}\n",
    "chdi = {1: \"Normal cholesterol\", 2:\"Above average cholesterol\", 3:\"Well above average cholesterol\"}\n",
    "gldi = {1: \"Normal glucose\", 2:\"Above average glucose\", 3:\"Well above average glucose\"}\n",
    "smdi = {0: \"Non-smoker\", 1: \"Smoker\"}\n",
    "aldi = {0: \"Drinks alcohol\", 1: \"Does not drink\"}\n",
    "acdi = {0: \"Not physically active\", 1: \"Physically active\"}\n",
    "cadi = {0: \"No cardiovascular disease\", 1: \"Presence of cardiovascular disease\"}\n",
    "cdf.replace({\"gender\": di}, inplace=True)\n",
    "cdf.replace({\"cholesterol\": chdi}, inplace=True)\n",
    "cdf.replace({\"gluc\": gldi}, inplace=True)\n",
    "cdf.replace({\"smoke\": smdi}, inplace=True)\n",
    "cdf.replace({\"alco\": aldi}, inplace=True)\n",
    "cdf.replace({\"active\": acdi}, inplace=True)\n",
    "cdf.replace({\"cardio\": cadi}, inplace=True)"
   ]
  },
  {
   "cell_type": "code",
   "execution_count": 126,
   "metadata": {
    "scrolled": false
   },
   "outputs": [
    {
     "data": {
      "text/html": [
       "<div>\n",
       "<style scoped>\n",
       "    .dataframe tbody tr th:only-of-type {\n",
       "        vertical-align: middle;\n",
       "    }\n",
       "\n",
       "    .dataframe tbody tr th {\n",
       "        vertical-align: top;\n",
       "    }\n",
       "\n",
       "    .dataframe thead th {\n",
       "        text-align: right;\n",
       "    }\n",
       "</style>\n",
       "<table border=\"1\" class=\"dataframe\">\n",
       "  <thead>\n",
       "    <tr style=\"text-align: right;\">\n",
       "      <th></th>\n",
       "      <th>id</th>\n",
       "      <th>age</th>\n",
       "      <th>gender</th>\n",
       "      <th>cholesterol</th>\n",
       "      <th>gluc</th>\n",
       "      <th>smoke</th>\n",
       "      <th>alco</th>\n",
       "      <th>active</th>\n",
       "      <th>cardio</th>\n",
       "      <th>Blood Pressure</th>\n",
       "      <th>BMI</th>\n",
       "    </tr>\n",
       "  </thead>\n",
       "  <tbody>\n",
       "    <tr>\n",
       "      <th>0</th>\n",
       "      <td>0</td>\n",
       "      <td>Age: 41-55</td>\n",
       "      <td>Female</td>\n",
       "      <td>Normal cholesterol</td>\n",
       "      <td>Normal glucose</td>\n",
       "      <td>Non-smoker</td>\n",
       "      <td>Drinks alcohol</td>\n",
       "      <td>Physically active</td>\n",
       "      <td>No cardiovascular disease</td>\n",
       "      <td>Normal BP</td>\n",
       "      <td>Healthy weight</td>\n",
       "    </tr>\n",
       "    <tr>\n",
       "      <th>1</th>\n",
       "      <td>1</td>\n",
       "      <td>Age: 41-55</td>\n",
       "      <td>Male</td>\n",
       "      <td>Well above average cholesterol</td>\n",
       "      <td>Normal glucose</td>\n",
       "      <td>Non-smoker</td>\n",
       "      <td>Drinks alcohol</td>\n",
       "      <td>Physically active</td>\n",
       "      <td>Presence of cardiovascular disease</td>\n",
       "      <td>Stage 2 High BP</td>\n",
       "      <td>Obese</td>\n",
       "    </tr>\n",
       "    <tr>\n",
       "      <th>2</th>\n",
       "      <td>2</td>\n",
       "      <td>Age: 41-55</td>\n",
       "      <td>Male</td>\n",
       "      <td>Well above average cholesterol</td>\n",
       "      <td>Normal glucose</td>\n",
       "      <td>Non-smoker</td>\n",
       "      <td>Drinks alcohol</td>\n",
       "      <td>Not physically active</td>\n",
       "      <td>Presence of cardiovascular disease</td>\n",
       "      <td>Stage 1 High BP</td>\n",
       "      <td>Healthy weight</td>\n",
       "    </tr>\n",
       "    <tr>\n",
       "      <th>3</th>\n",
       "      <td>3</td>\n",
       "      <td>Age: 41-55</td>\n",
       "      <td>Female</td>\n",
       "      <td>Normal cholesterol</td>\n",
       "      <td>Normal glucose</td>\n",
       "      <td>Non-smoker</td>\n",
       "      <td>Drinks alcohol</td>\n",
       "      <td>Physically active</td>\n",
       "      <td>Presence of cardiovascular disease</td>\n",
       "      <td>Stage 2 High BP</td>\n",
       "      <td>Overweight</td>\n",
       "    </tr>\n",
       "    <tr>\n",
       "      <th>4</th>\n",
       "      <td>4</td>\n",
       "      <td>Age: 41-55</td>\n",
       "      <td>Male</td>\n",
       "      <td>Normal cholesterol</td>\n",
       "      <td>Normal glucose</td>\n",
       "      <td>Non-smoker</td>\n",
       "      <td>Drinks alcohol</td>\n",
       "      <td>Not physically active</td>\n",
       "      <td>No cardiovascular disease</td>\n",
       "      <td>Normal BP</td>\n",
       "      <td>Healthy weight</td>\n",
       "    </tr>\n",
       "  </tbody>\n",
       "</table>\n",
       "</div>"
      ],
      "text/plain": [
       "   id         age  gender                     cholesterol            gluc  \\\n",
       "0   0  Age: 41-55  Female              Normal cholesterol  Normal glucose   \n",
       "1   1  Age: 41-55    Male  Well above average cholesterol  Normal glucose   \n",
       "2   2  Age: 41-55    Male  Well above average cholesterol  Normal glucose   \n",
       "3   3  Age: 41-55  Female              Normal cholesterol  Normal glucose   \n",
       "4   4  Age: 41-55    Male              Normal cholesterol  Normal glucose   \n",
       "\n",
       "        smoke            alco                 active  \\\n",
       "0  Non-smoker  Drinks alcohol      Physically active   \n",
       "1  Non-smoker  Drinks alcohol      Physically active   \n",
       "2  Non-smoker  Drinks alcohol  Not physically active   \n",
       "3  Non-smoker  Drinks alcohol      Physically active   \n",
       "4  Non-smoker  Drinks alcohol  Not physically active   \n",
       "\n",
       "                               cardio   Blood Pressure             BMI  \n",
       "0           No cardiovascular disease        Normal BP  Healthy weight  \n",
       "1  Presence of cardiovascular disease  Stage 2 High BP           Obese  \n",
       "2  Presence of cardiovascular disease  Stage 1 High BP  Healthy weight  \n",
       "3  Presence of cardiovascular disease  Stage 2 High BP      Overweight  \n",
       "4           No cardiovascular disease        Normal BP  Healthy weight  "
      ]
     },
     "execution_count": 126,
     "metadata": {},
     "output_type": "execute_result"
    }
   ],
   "source": [
    "cdf.head(5)"
   ]
  },
  {
   "cell_type": "markdown",
   "metadata": {},
   "source": [
    "# FPGrowth Modeling"
   ]
  },
  {
   "cell_type": "code",
   "execution_count": 60,
   "metadata": {},
   "outputs": [],
   "source": [
    "import pyfpgrowth"
   ]
  },
  {
   "cell_type": "code",
   "execution_count": 61,
   "metadata": {},
   "outputs": [],
   "source": [
    "#FPGrowth is a time consuming algorithm. The dataset is sampled to save time\n",
    "FPGdf = cdf.sample(1000)"
   ]
  },
  {
   "cell_type": "code",
   "execution_count": 67,
   "metadata": {},
   "outputs": [
    {
     "data": {
      "text/plain": [
       "{('Age: 41-55', 'Drinks alcohol', 'Elevated BP'): 31,\n",
       " ('Age: 41-55', 'Drinks alcohol', 'Elevated BP', 'Non-smoker'): 31,\n",
       " ('Age: 41-55', 'Drinks alcohol', 'Elevated BP', 'Normal glucose'): 30,\n",
       " ('Age: 41-55',\n",
       "  'Drinks alcohol',\n",
       "  'Elevated BP',\n",
       "  'Non-smoker',\n",
       "  'Normal glucose'): 30,\n",
       " ('Age: 41-55', 'Elevated BP', 'Normal glucose'): 32,\n",
       " ('Age: 41-55', 'Elevated BP', 'Non-smoker'): 32,\n",
       " ('Age: 41-55', 'Elevated BP', 'Non-smoker', 'Normal glucose'): 31,\n",
       " ('Elevated BP', 'Normal cholesterol', 'Physically active'): 31,\n",
       " ('Drinks alcohol',\n",
       "  'Elevated BP',\n",
       "  'Normal cholesterol',\n",
       "  'Physically active'): 30,\n",
       " ('Elevated BP', 'Non-smoker', 'Normal cholesterol', 'Physically active'): 30}"
      ]
     },
     "execution_count": 67,
     "metadata": {},
     "output_type": "execute_result"
    }
   ],
   "source": [
    "patterns = pyfpgrowth.find_frequent_patterns(FPGdf.values.tolist(),30)\n",
    "{key: patterns[key] for key in list(patterns.keys())[:10]}"
   ]
  },
  {
   "cell_type": "code",
   "execution_count": 68,
   "metadata": {},
   "outputs": [
    {
     "data": {
      "text/plain": [
       "{('Drinks alcohol', 'Elevated BP'): (('Non-smoker',), 1.0),\n",
       " ('Elevated BP', 'Non-smoker'): (('Drinks alcohol',), 0.9761904761904762),\n",
       " ('Age: 41-55',\n",
       "  'Drinks alcohol',\n",
       "  'Elevated BP'): (('Non-smoker', 'Normal glucose'), 0.967741935483871),\n",
       " ('Age: 41-55', 'Elevated BP', 'Non-smoker'): (('Normal glucose',), 0.96875),\n",
       " ('Drinks alcohol', 'Elevated BP', 'Non-smoker'): (('Normal glucose',),\n",
       "  0.926829268292683),\n",
       " ('Elevated BP', 'Normal glucose'): (('Drinks alcohol', 'Non-smoker'), 0.95),\n",
       " ('Age: 41-55', 'Elevated BP', 'Normal glucose'): (('Non-smoker',), 0.96875),\n",
       " ('Drinks alcohol', 'Elevated BP', 'Normal glucose'): (('Non-smoker',), 1.0),\n",
       " ('Elevated BP', 'Non-smoker', 'Normal glucose'): (('Drinks alcohol',),\n",
       "  0.9743589743589743),\n",
       " ('Age: 41-55',\n",
       "  'Drinks alcohol',\n",
       "  'Elevated BP',\n",
       "  'Non-smoker'): (('Normal glucose',), 0.967741935483871)}"
      ]
     },
     "execution_count": 68,
     "metadata": {},
     "output_type": "execute_result"
    }
   ],
   "source": [
    "rules = pyfpgrowth.generate_association_rules(patterns, 0.7)\n",
    "{key: rules[key] for key in list(rules.keys())[:10]}"
   ]
  },
  {
   "cell_type": "markdown",
   "metadata": {},
   "source": [
    "I am interested in seeing the relationships with presence of cardiovascular disease"
   ]
  },
  {
   "cell_type": "code",
   "execution_count": 69,
   "metadata": {
    "scrolled": false
   },
   "outputs": [
    {
     "data": {
      "text/plain": [
       "{('Above average cholesterol',\n",
       "  'Non-smoker'): (('Drinks alcohol',\n",
       "   'Presence of cardiovascular disease'), 0.9411764705882353),\n",
       " ('Above average cholesterol',\n",
       "  'Drinks alcohol'): (('Presence of cardiovascular disease',), 1.0),\n",
       " ('Above average cholesterol',\n",
       "  'Drinks alcohol',\n",
       "  'Non-smoker'): (('Presence of cardiovascular disease',), 1.0),\n",
       " ('Above average cholesterol',\n",
       "  'Drinks alcohol',\n",
       "  'Normal glucose'): (('Presence of cardiovascular disease',), 1.0),\n",
       " ('Above average cholesterol',\n",
       "  'Non-smoker',\n",
       "  'Normal glucose'): (('Drinks alcohol', 'Presence of cardiovascular disease'),\n",
       "  0.9629629629629629),\n",
       " ('Above average cholesterol',\n",
       "  'Presence of cardiovascular disease'): (('Drinks alcohol',), 0.9459459459459459),\n",
       " ('Above average cholesterol',\n",
       "  'Non-smoker',\n",
       "  'Presence of cardiovascular disease'): (('Drinks alcohol',),\n",
       "  0.9411764705882353),\n",
       " ('Above average cholesterol',\n",
       "  'Normal glucose',\n",
       "  'Presence of cardiovascular disease'): (('Drinks alcohol',),\n",
       "  0.9655172413793104),\n",
       " ('Above average cholesterol',\n",
       "  'Drinks alcohol',\n",
       "  'Presence of cardiovascular disease'): (('Non-smoker',), 0.9142857142857143),\n",
       " ('Above average cholesterol',\n",
       "  'Drinks alcohol',\n",
       "  'Non-smoker',\n",
       "  'Normal glucose'): (('Presence of cardiovascular disease',), 1.0)}"
      ]
     },
     "execution_count": 69,
     "metadata": {},
     "output_type": "execute_result"
    }
   ],
   "source": [
    "pdf = FPGdf[FPGdf.cardio==\"Presence of cardiovascular disease\"]\n",
    "patterns = pyfpgrowth.find_frequent_patterns(pdf.values.tolist(),50)\n",
    "rules = pyfpgrowth.generate_association_rules(patterns, 0.7)\n",
    "{key: rules[key] for key in list(rules.keys())[:10]}"
   ]
  },
  {
   "cell_type": "code",
   "execution_count": 71,
   "metadata": {},
   "outputs": [
    {
     "data": {
      "text/plain": [
       "[('Above average cholesterol', 'Drinks alcohol'),\n",
       " ('Above average cholesterol', 'Drinks alcohol', 'Non-smoker'),\n",
       " ('Above average cholesterol', 'Drinks alcohol', 'Normal glucose'),\n",
       " ('Above average cholesterol',\n",
       "  'Drinks alcohol',\n",
       "  'Non-smoker',\n",
       "  'Normal glucose'),\n",
       " ('Above average cholesterol', 'Drinks alcohol', 'Physically active'),\n",
       " ('Above average cholesterol',\n",
       "  'Drinks alcohol',\n",
       "  'Non-smoker',\n",
       "  'Physically active'),\n",
       " ('Normal glucose', 'Well above average cholesterol'),\n",
       " ('Age: 56+', 'Drinks alcohol', 'Well above average cholesterol'),\n",
       " ('Age: 56+', 'Non-smoker', 'Well above average cholesterol'),\n",
       " ('Male', 'Non-smoker', 'Well above average cholesterol')]"
      ]
     },
     "execution_count": 71,
     "metadata": {},
     "output_type": "execute_result"
    }
   ],
   "source": [
    "#Only view rules where the consequent == Cardiovascular disease\n",
    "cardiovasc_rules = [k for k in rules if rules.get(k) == (('Presence of cardiovascular disease',), 1.0)]\n",
    "cardiovasc_rules[:10]"
   ]
  },
  {
   "cell_type": "markdown",
   "metadata": {},
   "source": [
    "From the rules, I can interpret that some combination of morbid obesity, high glucose levels, high cholesterol, high blood pressure, smoking, alcohol use and being male increases the chances of cardiovascular disease."
   ]
  },
  {
   "cell_type": "markdown",
   "metadata": {},
   "source": [
    "# Logistic Regression\n",
    "- for comparison of performance to SVM"
   ]
  },
  {
   "cell_type": "code",
   "execution_count": 138,
   "metadata": {},
   "outputs": [],
   "source": [
    "logr = LR(random_state = 1, solver='liblinear')\n",
    "\n",
    "min_max_scaler = preprocessing.MinMaxScaler()\n",
    "df_scaled = min_max_scaler.fit_transform(X)\n",
    "\n",
    "logr.fit(df_scaled, y.squeeze())\n",
    "\n",
    "val_X_scaled = min_max_scaler.transform(val_X)\n",
    "results = logr.predict(val_X_scaled)"
   ]
  },
  {
   "cell_type": "code",
   "execution_count": 140,
   "metadata": {},
   "outputs": [
    {
     "name": "stdout",
     "output_type": "stream",
     "text": [
      "[[6753 1812]\n",
      " [2835 5461]]\n",
      "              precision    recall  f1-score   support\n",
      "\n",
      "           0       0.70      0.79      0.74      8565\n",
      "           1       0.75      0.66      0.70      8296\n",
      "\n",
      "    accuracy                           0.72     16861\n",
      "   macro avg       0.73      0.72      0.72     16861\n",
      "weighted avg       0.73      0.72      0.72     16861\n",
      "\n"
     ]
    },
    {
     "data": {
      "image/png": "[encoded data removed]",
      "text/plain": [
       "<Figure size 432x288 with 2 Axes>"
      ]
     },
     "metadata": {},
     "output_type": "display_data"
    }
   ],
   "source": [
    "cm = confusion_matrix(val_y, results)\n",
    "print(cm)\n",
    "print(classification_report(val_y, results))\n",
    "\n",
    "labels = ['No', 'Yes']\n",
    "fig = plt.figure()\n",
    "ax = fig.add_subplot(111)\n",
    "cax = ax.matshow(cm, cmap=plt.cm.Blues)\n",
    "fig.colorbar(cax)\n",
    "ax.set_xticklabels([''] + labels)\n",
    "ax.set_yticklabels([''] + labels)\n",
    "plt.xlabel('Predicted')\n",
    "plt.ylabel('Actual')\n",
    "plt.show()"
   ]
  },
  {
   "cell_type": "markdown",
   "metadata": {},
   "source": [
    "# SVM Classification"
   ]
  },
  {
   "cell_type": "markdown",
   "metadata": {},
   "source": [
    "## SVM Preprocessing\n",
    "- onehot encoding for initial categorical variables\n"
   ]
  },
  {
   "cell_type": "code",
   "execution_count": 47,
   "metadata": {},
   "outputs": [
    {
     "data": {
      "text/html": [
       "<div>\n",
       "<style scoped>\n",
       "    .dataframe tbody tr th:only-of-type {\n",
       "        vertical-align: middle;\n",
       "    }\n",
       "\n",
       "    .dataframe tbody tr th {\n",
       "        vertical-align: top;\n",
       "    }\n",
       "\n",
       "    .dataframe thead th {\n",
       "        text-align: right;\n",
       "    }\n",
       "</style>\n",
       "<table border=\"1\" class=\"dataframe\">\n",
       "  <thead>\n",
       "    <tr style=\"text-align: right;\">\n",
       "      <th></th>\n",
       "      <th>id</th>\n",
       "      <th>age</th>\n",
       "      <th>gender</th>\n",
       "      <th>height</th>\n",
       "      <th>weight</th>\n",
       "      <th>ap_hi</th>\n",
       "      <th>ap_lo</th>\n",
       "      <th>cholesterol</th>\n",
       "      <th>gluc</th>\n",
       "      <th>smoke</th>\n",
       "      <th>alco</th>\n",
       "      <th>active</th>\n",
       "      <th>cardio</th>\n",
       "      <th>Blood Pressure</th>\n",
       "      <th>BMI</th>\n",
       "    </tr>\n",
       "  </thead>\n",
       "  <tbody>\n",
       "    <tr>\n",
       "      <th>0</th>\n",
       "      <td>0</td>\n",
       "      <td>50</td>\n",
       "      <td>2</td>\n",
       "      <td>168</td>\n",
       "      <td>62.0</td>\n",
       "      <td>110</td>\n",
       "      <td>80</td>\n",
       "      <td>1</td>\n",
       "      <td>1</td>\n",
       "      <td>0</td>\n",
       "      <td>0</td>\n",
       "      <td>1</td>\n",
       "      <td>0</td>\n",
       "      <td>Normal BP</td>\n",
       "      <td>21.967120</td>\n",
       "    </tr>\n",
       "    <tr>\n",
       "      <th>1</th>\n",
       "      <td>1</td>\n",
       "      <td>55</td>\n",
       "      <td>1</td>\n",
       "      <td>156</td>\n",
       "      <td>85.0</td>\n",
       "      <td>140</td>\n",
       "      <td>90</td>\n",
       "      <td>3</td>\n",
       "      <td>1</td>\n",
       "      <td>0</td>\n",
       "      <td>0</td>\n",
       "      <td>1</td>\n",
       "      <td>1</td>\n",
       "      <td>Stage 2 High BP</td>\n",
       "      <td>34.927679</td>\n",
       "    </tr>\n",
       "    <tr>\n",
       "      <th>2</th>\n",
       "      <td>2</td>\n",
       "      <td>51</td>\n",
       "      <td>1</td>\n",
       "      <td>165</td>\n",
       "      <td>64.0</td>\n",
       "      <td>130</td>\n",
       "      <td>70</td>\n",
       "      <td>3</td>\n",
       "      <td>1</td>\n",
       "      <td>0</td>\n",
       "      <td>0</td>\n",
       "      <td>0</td>\n",
       "      <td>1</td>\n",
       "      <td>Stage 1 High BP</td>\n",
       "      <td>23.507805</td>\n",
       "    </tr>\n",
       "    <tr>\n",
       "      <th>3</th>\n",
       "      <td>3</td>\n",
       "      <td>48</td>\n",
       "      <td>2</td>\n",
       "      <td>169</td>\n",
       "      <td>82.0</td>\n",
       "      <td>150</td>\n",
       "      <td>100</td>\n",
       "      <td>1</td>\n",
       "      <td>1</td>\n",
       "      <td>0</td>\n",
       "      <td>0</td>\n",
       "      <td>1</td>\n",
       "      <td>1</td>\n",
       "      <td>Stage 2 High BP</td>\n",
       "      <td>28.710479</td>\n",
       "    </tr>\n",
       "    <tr>\n",
       "      <th>4</th>\n",
       "      <td>4</td>\n",
       "      <td>47</td>\n",
       "      <td>1</td>\n",
       "      <td>156</td>\n",
       "      <td>56.0</td>\n",
       "      <td>100</td>\n",
       "      <td>60</td>\n",
       "      <td>1</td>\n",
       "      <td>1</td>\n",
       "      <td>0</td>\n",
       "      <td>0</td>\n",
       "      <td>0</td>\n",
       "      <td>0</td>\n",
       "      <td>Normal BP</td>\n",
       "      <td>23.011177</td>\n",
       "    </tr>\n",
       "  </tbody>\n",
       "</table>\n",
       "</div>"
      ],
      "text/plain": [
       "   id  age  gender  height  weight  ap_hi  ap_lo  cholesterol  gluc  smoke  \\\n",
       "0   0   50       2     168    62.0    110     80            1     1      0   \n",
       "1   1   55       1     156    85.0    140     90            3     1      0   \n",
       "2   2   51       1     165    64.0    130     70            3     1      0   \n",
       "3   3   48       2     169    82.0    150    100            1     1      0   \n",
       "4   4   47       1     156    56.0    100     60            1     1      0   \n",
       "\n",
       "   alco  active  cardio   Blood Pressure        BMI  \n",
       "0     0       1       0        Normal BP  21.967120  \n",
       "1     0       1       1  Stage 2 High BP  34.927679  \n",
       "2     0       0       1  Stage 1 High BP  23.507805  \n",
       "3     0       1       1  Stage 2 High BP  28.710479  \n",
       "4     0       0       0        Normal BP  23.011177  "
      ]
     },
     "execution_count": 47,
     "metadata": {},
     "output_type": "execute_result"
    }
   ],
   "source": [
    "df.head()"
   ]
  },
  {
   "cell_type": "markdown",
   "metadata": {},
   "source": [
    "For the first trial, we will use the original dataset features; ie. excluding generated features like Blood Pressure and BMI"
   ]
  },
  {
   "cell_type": "code",
   "execution_count": 48,
   "metadata": {},
   "outputs": [],
   "source": [
    "svm_df = df[df.columns[0:13]]"
   ]
  },
  {
   "cell_type": "code",
   "execution_count": 49,
   "metadata": {},
   "outputs": [
    {
     "data": {
      "text/html": [
       "<div>\n",
       "<style scoped>\n",
       "    .dataframe tbody tr th:only-of-type {\n",
       "        vertical-align: middle;\n",
       "    }\n",
       "\n",
       "    .dataframe tbody tr th {\n",
       "        vertical-align: top;\n",
       "    }\n",
       "\n",
       "    .dataframe thead th {\n",
       "        text-align: right;\n",
       "    }\n",
       "</style>\n",
       "<table border=\"1\" class=\"dataframe\">\n",
       "  <thead>\n",
       "    <tr style=\"text-align: right;\">\n",
       "      <th></th>\n",
       "      <th>id</th>\n",
       "      <th>age</th>\n",
       "      <th>gender</th>\n",
       "      <th>height</th>\n",
       "      <th>weight</th>\n",
       "      <th>ap_hi</th>\n",
       "      <th>ap_lo</th>\n",
       "      <th>cholesterol</th>\n",
       "      <th>gluc</th>\n",
       "      <th>smoke</th>\n",
       "      <th>alco</th>\n",
       "      <th>active</th>\n",
       "      <th>cardio</th>\n",
       "    </tr>\n",
       "  </thead>\n",
       "  <tbody>\n",
       "    <tr>\n",
       "      <th>0</th>\n",
       "      <td>0</td>\n",
       "      <td>50</td>\n",
       "      <td>2</td>\n",
       "      <td>168</td>\n",
       "      <td>62.0</td>\n",
       "      <td>110</td>\n",
       "      <td>80</td>\n",
       "      <td>1</td>\n",
       "      <td>1</td>\n",
       "      <td>0</td>\n",
       "      <td>0</td>\n",
       "      <td>1</td>\n",
       "      <td>0</td>\n",
       "    </tr>\n",
       "    <tr>\n",
       "      <th>1</th>\n",
       "      <td>1</td>\n",
       "      <td>55</td>\n",
       "      <td>1</td>\n",
       "      <td>156</td>\n",
       "      <td>85.0</td>\n",
       "      <td>140</td>\n",
       "      <td>90</td>\n",
       "      <td>3</td>\n",
       "      <td>1</td>\n",
       "      <td>0</td>\n",
       "      <td>0</td>\n",
       "      <td>1</td>\n",
       "      <td>1</td>\n",
       "    </tr>\n",
       "    <tr>\n",
       "      <th>2</th>\n",
       "      <td>2</td>\n",
       "      <td>51</td>\n",
       "      <td>1</td>\n",
       "      <td>165</td>\n",
       "      <td>64.0</td>\n",
       "      <td>130</td>\n",
       "      <td>70</td>\n",
       "      <td>3</td>\n",
       "      <td>1</td>\n",
       "      <td>0</td>\n",
       "      <td>0</td>\n",
       "      <td>0</td>\n",
       "      <td>1</td>\n",
       "    </tr>\n",
       "    <tr>\n",
       "      <th>3</th>\n",
       "      <td>3</td>\n",
       "      <td>48</td>\n",
       "      <td>2</td>\n",
       "      <td>169</td>\n",
       "      <td>82.0</td>\n",
       "      <td>150</td>\n",
       "      <td>100</td>\n",
       "      <td>1</td>\n",
       "      <td>1</td>\n",
       "      <td>0</td>\n",
       "      <td>0</td>\n",
       "      <td>1</td>\n",
       "      <td>1</td>\n",
       "    </tr>\n",
       "    <tr>\n",
       "      <th>4</th>\n",
       "      <td>4</td>\n",
       "      <td>47</td>\n",
       "      <td>1</td>\n",
       "      <td>156</td>\n",
       "      <td>56.0</td>\n",
       "      <td>100</td>\n",
       "      <td>60</td>\n",
       "      <td>1</td>\n",
       "      <td>1</td>\n",
       "      <td>0</td>\n",
       "      <td>0</td>\n",
       "      <td>0</td>\n",
       "      <td>0</td>\n",
       "    </tr>\n",
       "  </tbody>\n",
       "</table>\n",
       "</div>"
      ],
      "text/plain": [
       "   id  age  gender  height  weight  ap_hi  ap_lo  cholesterol  gluc  smoke  \\\n",
       "0   0   50       2     168    62.0    110     80            1     1      0   \n",
       "1   1   55       1     156    85.0    140     90            3     1      0   \n",
       "2   2   51       1     165    64.0    130     70            3     1      0   \n",
       "3   3   48       2     169    82.0    150    100            1     1      0   \n",
       "4   4   47       1     156    56.0    100     60            1     1      0   \n",
       "\n",
       "   alco  active  cardio  \n",
       "0     0       1       0  \n",
       "1     0       1       1  \n",
       "2     0       0       1  \n",
       "3     0       1       1  \n",
       "4     0       0       0  "
      ]
     },
     "execution_count": 49,
     "metadata": {},
     "output_type": "execute_result"
    }
   ],
   "source": [
    "svm_df.head()"
   ]
  },
  {
   "cell_type": "markdown",
   "metadata": {},
   "source": [
    "### One Hot Encoding"
   ]
  },
  {
   "cell_type": "code",
   "execution_count": 50,
   "metadata": {},
   "outputs": [],
   "source": [
    "y = svm_df.cardio\n",
    "X = svm_df[svm_df.columns.difference(['cardio', 'id'])]"
   ]
  },
  {
   "cell_type": "code",
   "execution_count": 51,
   "metadata": {},
   "outputs": [
    {
     "data": {
      "text/html": [
       "<div>\n",
       "<style scoped>\n",
       "    .dataframe tbody tr th:only-of-type {\n",
       "        vertical-align: middle;\n",
       "    }\n",
       "\n",
       "    .dataframe tbody tr th {\n",
       "        vertical-align: top;\n",
       "    }\n",
       "\n",
       "    .dataframe thead th {\n",
       "        text-align: right;\n",
       "    }\n",
       "</style>\n",
       "<table border=\"1\" class=\"dataframe\">\n",
       "  <thead>\n",
       "    <tr style=\"text-align: right;\">\n",
       "      <th></th>\n",
       "      <th>active</th>\n",
       "      <th>age</th>\n",
       "      <th>alco</th>\n",
       "      <th>ap_hi</th>\n",
       "      <th>ap_lo</th>\n",
       "      <th>cholesterol</th>\n",
       "      <th>gluc</th>\n",
       "      <th>height</th>\n",
       "      <th>smoke</th>\n",
       "      <th>weight</th>\n",
       "      <th>gender_1</th>\n",
       "      <th>gender_2</th>\n",
       "    </tr>\n",
       "  </thead>\n",
       "  <tbody>\n",
       "    <tr>\n",
       "      <th>0</th>\n",
       "      <td>1</td>\n",
       "      <td>50</td>\n",
       "      <td>0</td>\n",
       "      <td>110</td>\n",
       "      <td>80</td>\n",
       "      <td>1</td>\n",
       "      <td>1</td>\n",
       "      <td>168</td>\n",
       "      <td>0</td>\n",
       "      <td>62.0</td>\n",
       "      <td>0</td>\n",
       "      <td>1</td>\n",
       "    </tr>\n",
       "    <tr>\n",
       "      <th>1</th>\n",
       "      <td>1</td>\n",
       "      <td>55</td>\n",
       "      <td>0</td>\n",
       "      <td>140</td>\n",
       "      <td>90</td>\n",
       "      <td>3</td>\n",
       "      <td>1</td>\n",
       "      <td>156</td>\n",
       "      <td>0</td>\n",
       "      <td>85.0</td>\n",
       "      <td>1</td>\n",
       "      <td>0</td>\n",
       "    </tr>\n",
       "    <tr>\n",
       "      <th>2</th>\n",
       "      <td>0</td>\n",
       "      <td>51</td>\n",
       "      <td>0</td>\n",
       "      <td>130</td>\n",
       "      <td>70</td>\n",
       "      <td>3</td>\n",
       "      <td>1</td>\n",
       "      <td>165</td>\n",
       "      <td>0</td>\n",
       "      <td>64.0</td>\n",
       "      <td>1</td>\n",
       "      <td>0</td>\n",
       "    </tr>\n",
       "    <tr>\n",
       "      <th>3</th>\n",
       "      <td>1</td>\n",
       "      <td>48</td>\n",
       "      <td>0</td>\n",
       "      <td>150</td>\n",
       "      <td>100</td>\n",
       "      <td>1</td>\n",
       "      <td>1</td>\n",
       "      <td>169</td>\n",
       "      <td>0</td>\n",
       "      <td>82.0</td>\n",
       "      <td>0</td>\n",
       "      <td>1</td>\n",
       "    </tr>\n",
       "    <tr>\n",
       "      <th>4</th>\n",
       "      <td>0</td>\n",
       "      <td>47</td>\n",
       "      <td>0</td>\n",
       "      <td>100</td>\n",
       "      <td>60</td>\n",
       "      <td>1</td>\n",
       "      <td>1</td>\n",
       "      <td>156</td>\n",
       "      <td>0</td>\n",
       "      <td>56.0</td>\n",
       "      <td>1</td>\n",
       "      <td>0</td>\n",
       "    </tr>\n",
       "    <tr>\n",
       "      <th>...</th>\n",
       "      <td>...</td>\n",
       "      <td>...</td>\n",
       "      <td>...</td>\n",
       "      <td>...</td>\n",
       "      <td>...</td>\n",
       "      <td>...</td>\n",
       "      <td>...</td>\n",
       "      <td>...</td>\n",
       "      <td>...</td>\n",
       "      <td>...</td>\n",
       "      <td>...</td>\n",
       "      <td>...</td>\n",
       "    </tr>\n",
       "    <tr>\n",
       "      <th>69993</th>\n",
       "      <td>1</td>\n",
       "      <td>53</td>\n",
       "      <td>0</td>\n",
       "      <td>130</td>\n",
       "      <td>90</td>\n",
       "      <td>1</td>\n",
       "      <td>1</td>\n",
       "      <td>172</td>\n",
       "      <td>0</td>\n",
       "      <td>70.0</td>\n",
       "      <td>1</td>\n",
       "      <td>0</td>\n",
       "    </tr>\n",
       "    <tr>\n",
       "      <th>69994</th>\n",
       "      <td>1</td>\n",
       "      <td>57</td>\n",
       "      <td>0</td>\n",
       "      <td>150</td>\n",
       "      <td>80</td>\n",
       "      <td>1</td>\n",
       "      <td>1</td>\n",
       "      <td>165</td>\n",
       "      <td>0</td>\n",
       "      <td>80.0</td>\n",
       "      <td>1</td>\n",
       "      <td>0</td>\n",
       "    </tr>\n",
       "    <tr>\n",
       "      <th>69995</th>\n",
       "      <td>1</td>\n",
       "      <td>52</td>\n",
       "      <td>0</td>\n",
       "      <td>120</td>\n",
       "      <td>80</td>\n",
       "      <td>1</td>\n",
       "      <td>1</td>\n",
       "      <td>168</td>\n",
       "      <td>1</td>\n",
       "      <td>76.0</td>\n",
       "      <td>0</td>\n",
       "      <td>1</td>\n",
       "    </tr>\n",
       "    <tr>\n",
       "      <th>69998</th>\n",
       "      <td>0</td>\n",
       "      <td>61</td>\n",
       "      <td>0</td>\n",
       "      <td>135</td>\n",
       "      <td>80</td>\n",
       "      <td>1</td>\n",
       "      <td>2</td>\n",
       "      <td>163</td>\n",
       "      <td>0</td>\n",
       "      <td>72.0</td>\n",
       "      <td>1</td>\n",
       "      <td>0</td>\n",
       "    </tr>\n",
       "    <tr>\n",
       "      <th>69999</th>\n",
       "      <td>1</td>\n",
       "      <td>56</td>\n",
       "      <td>0</td>\n",
       "      <td>120</td>\n",
       "      <td>80</td>\n",
       "      <td>2</td>\n",
       "      <td>1</td>\n",
       "      <td>170</td>\n",
       "      <td>0</td>\n",
       "      <td>72.0</td>\n",
       "      <td>1</td>\n",
       "      <td>0</td>\n",
       "    </tr>\n",
       "  </tbody>\n",
       "</table>\n",
       "<p>67442 rows × 12 columns</p>\n",
       "</div>"
      ],
      "text/plain": [
       "       active  age  alco  ap_hi  ap_lo  cholesterol  gluc  height  smoke  \\\n",
       "0           1   50     0    110     80            1     1     168      0   \n",
       "1           1   55     0    140     90            3     1     156      0   \n",
       "2           0   51     0    130     70            3     1     165      0   \n",
       "3           1   48     0    150    100            1     1     169      0   \n",
       "4           0   47     0    100     60            1     1     156      0   \n",
       "...       ...  ...   ...    ...    ...          ...   ...     ...    ...   \n",
       "69993       1   53     0    130     90            1     1     172      0   \n",
       "69994       1   57     0    150     80            1     1     165      0   \n",
       "69995       1   52     0    120     80            1     1     168      1   \n",
       "69998       0   61     0    135     80            1     2     163      0   \n",
       "69999       1   56     0    120     80            2     1     170      0   \n",
       "\n",
       "       weight  gender_1  gender_2  \n",
       "0        62.0         0         1  \n",
       "1        85.0         1         0  \n",
       "2        64.0         1         0  \n",
       "3        82.0         0         1  \n",
       "4        56.0         1         0  \n",
       "...       ...       ...       ...  \n",
       "69993    70.0         1         0  \n",
       "69994    80.0         1         0  \n",
       "69995    76.0         0         1  \n",
       "69998    72.0         1         0  \n",
       "69999    72.0         1         0  \n",
       "\n",
       "[67442 rows x 12 columns]"
      ]
     },
     "execution_count": 51,
     "metadata": {},
     "output_type": "execute_result"
    }
   ],
   "source": [
    "cols = ['gender']\n",
    "ohdf = X.copy()\n",
    "ohdf = pd.get_dummies(X, columns = cols, prefix = cols)\n",
    "ohdf"
   ]
  },
  {
   "cell_type": "code",
   "execution_count": 52,
   "metadata": {},
   "outputs": [
    {
     "data": {
      "text/html": [
       "<div>\n",
       "<style scoped>\n",
       "    .dataframe tbody tr th:only-of-type {\n",
       "        vertical-align: middle;\n",
       "    }\n",
       "\n",
       "    .dataframe tbody tr th {\n",
       "        vertical-align: top;\n",
       "    }\n",
       "\n",
       "    .dataframe thead th {\n",
       "        text-align: right;\n",
       "    }\n",
       "</style>\n",
       "<table border=\"1\" class=\"dataframe\">\n",
       "  <thead>\n",
       "    <tr style=\"text-align: right;\">\n",
       "      <th></th>\n",
       "      <th>active</th>\n",
       "      <th>age</th>\n",
       "      <th>alco</th>\n",
       "      <th>ap_hi</th>\n",
       "      <th>ap_lo</th>\n",
       "      <th>cholesterol</th>\n",
       "      <th>gluc</th>\n",
       "      <th>height</th>\n",
       "      <th>smoke</th>\n",
       "      <th>weight</th>\n",
       "      <th>gender_1</th>\n",
       "      <th>gender_2</th>\n",
       "      <th>cardio</th>\n",
       "    </tr>\n",
       "  </thead>\n",
       "  <tbody>\n",
       "    <tr>\n",
       "      <th>0</th>\n",
       "      <td>1</td>\n",
       "      <td>50</td>\n",
       "      <td>0</td>\n",
       "      <td>110</td>\n",
       "      <td>80</td>\n",
       "      <td>1</td>\n",
       "      <td>1</td>\n",
       "      <td>168</td>\n",
       "      <td>0</td>\n",
       "      <td>62.0</td>\n",
       "      <td>0</td>\n",
       "      <td>1</td>\n",
       "      <td>0</td>\n",
       "    </tr>\n",
       "    <tr>\n",
       "      <th>1</th>\n",
       "      <td>1</td>\n",
       "      <td>55</td>\n",
       "      <td>0</td>\n",
       "      <td>140</td>\n",
       "      <td>90</td>\n",
       "      <td>3</td>\n",
       "      <td>1</td>\n",
       "      <td>156</td>\n",
       "      <td>0</td>\n",
       "      <td>85.0</td>\n",
       "      <td>1</td>\n",
       "      <td>0</td>\n",
       "      <td>1</td>\n",
       "    </tr>\n",
       "    <tr>\n",
       "      <th>2</th>\n",
       "      <td>0</td>\n",
       "      <td>51</td>\n",
       "      <td>0</td>\n",
       "      <td>130</td>\n",
       "      <td>70</td>\n",
       "      <td>3</td>\n",
       "      <td>1</td>\n",
       "      <td>165</td>\n",
       "      <td>0</td>\n",
       "      <td>64.0</td>\n",
       "      <td>1</td>\n",
       "      <td>0</td>\n",
       "      <td>1</td>\n",
       "    </tr>\n",
       "    <tr>\n",
       "      <th>3</th>\n",
       "      <td>1</td>\n",
       "      <td>48</td>\n",
       "      <td>0</td>\n",
       "      <td>150</td>\n",
       "      <td>100</td>\n",
       "      <td>1</td>\n",
       "      <td>1</td>\n",
       "      <td>169</td>\n",
       "      <td>0</td>\n",
       "      <td>82.0</td>\n",
       "      <td>0</td>\n",
       "      <td>1</td>\n",
       "      <td>1</td>\n",
       "    </tr>\n",
       "    <tr>\n",
       "      <th>4</th>\n",
       "      <td>0</td>\n",
       "      <td>47</td>\n",
       "      <td>0</td>\n",
       "      <td>100</td>\n",
       "      <td>60</td>\n",
       "      <td>1</td>\n",
       "      <td>1</td>\n",
       "      <td>156</td>\n",
       "      <td>0</td>\n",
       "      <td>56.0</td>\n",
       "      <td>1</td>\n",
       "      <td>0</td>\n",
       "      <td>0</td>\n",
       "    </tr>\n",
       "    <tr>\n",
       "      <th>...</th>\n",
       "      <td>...</td>\n",
       "      <td>...</td>\n",
       "      <td>...</td>\n",
       "      <td>...</td>\n",
       "      <td>...</td>\n",
       "      <td>...</td>\n",
       "      <td>...</td>\n",
       "      <td>...</td>\n",
       "      <td>...</td>\n",
       "      <td>...</td>\n",
       "      <td>...</td>\n",
       "      <td>...</td>\n",
       "      <td>...</td>\n",
       "    </tr>\n",
       "    <tr>\n",
       "      <th>69993</th>\n",
       "      <td>1</td>\n",
       "      <td>53</td>\n",
       "      <td>0</td>\n",
       "      <td>130</td>\n",
       "      <td>90</td>\n",
       "      <td>1</td>\n",
       "      <td>1</td>\n",
       "      <td>172</td>\n",
       "      <td>0</td>\n",
       "      <td>70.0</td>\n",
       "      <td>1</td>\n",
       "      <td>0</td>\n",
       "      <td>1</td>\n",
       "    </tr>\n",
       "    <tr>\n",
       "      <th>69994</th>\n",
       "      <td>1</td>\n",
       "      <td>57</td>\n",
       "      <td>0</td>\n",
       "      <td>150</td>\n",
       "      <td>80</td>\n",
       "      <td>1</td>\n",
       "      <td>1</td>\n",
       "      <td>165</td>\n",
       "      <td>0</td>\n",
       "      <td>80.0</td>\n",
       "      <td>1</td>\n",
       "      <td>0</td>\n",
       "      <td>1</td>\n",
       "    </tr>\n",
       "    <tr>\n",
       "      <th>69995</th>\n",
       "      <td>1</td>\n",
       "      <td>52</td>\n",
       "      <td>0</td>\n",
       "      <td>120</td>\n",
       "      <td>80</td>\n",
       "      <td>1</td>\n",
       "      <td>1</td>\n",
       "      <td>168</td>\n",
       "      <td>1</td>\n",
       "      <td>76.0</td>\n",
       "      <td>0</td>\n",
       "      <td>1</td>\n",
       "      <td>0</td>\n",
       "    </tr>\n",
       "    <tr>\n",
       "      <th>69998</th>\n",
       "      <td>0</td>\n",
       "      <td>61</td>\n",
       "      <td>0</td>\n",
       "      <td>135</td>\n",
       "      <td>80</td>\n",
       "      <td>1</td>\n",
       "      <td>2</td>\n",
       "      <td>163</td>\n",
       "      <td>0</td>\n",
       "      <td>72.0</td>\n",
       "      <td>1</td>\n",
       "      <td>0</td>\n",
       "      <td>1</td>\n",
       "    </tr>\n",
       "    <tr>\n",
       "      <th>69999</th>\n",
       "      <td>1</td>\n",
       "      <td>56</td>\n",
       "      <td>0</td>\n",
       "      <td>120</td>\n",
       "      <td>80</td>\n",
       "      <td>2</td>\n",
       "      <td>1</td>\n",
       "      <td>170</td>\n",
       "      <td>0</td>\n",
       "      <td>72.0</td>\n",
       "      <td>1</td>\n",
       "      <td>0</td>\n",
       "      <td>0</td>\n",
       "    </tr>\n",
       "  </tbody>\n",
       "</table>\n",
       "<p>67442 rows × 13 columns</p>\n",
       "</div>"
      ],
      "text/plain": [
       "       active  age  alco  ap_hi  ap_lo  cholesterol  gluc  height  smoke  \\\n",
       "0           1   50     0    110     80            1     1     168      0   \n",
       "1           1   55     0    140     90            3     1     156      0   \n",
       "2           0   51     0    130     70            3     1     165      0   \n",
       "3           1   48     0    150    100            1     1     169      0   \n",
       "4           0   47     0    100     60            1     1     156      0   \n",
       "...       ...  ...   ...    ...    ...          ...   ...     ...    ...   \n",
       "69993       1   53     0    130     90            1     1     172      0   \n",
       "69994       1   57     0    150     80            1     1     165      0   \n",
       "69995       1   52     0    120     80            1     1     168      1   \n",
       "69998       0   61     0    135     80            1     2     163      0   \n",
       "69999       1   56     0    120     80            2     1     170      0   \n",
       "\n",
       "       weight  gender_1  gender_2  cardio  \n",
       "0        62.0         0         1       0  \n",
       "1        85.0         1         0       1  \n",
       "2        64.0         1         0       1  \n",
       "3        82.0         0         1       1  \n",
       "4        56.0         1         0       0  \n",
       "...       ...       ...       ...     ...  \n",
       "69993    70.0         1         0       1  \n",
       "69994    80.0         1         0       1  \n",
       "69995    76.0         0         1       0  \n",
       "69998    72.0         1         0       1  \n",
       "69999    72.0         1         0       0  \n",
       "\n",
       "[67442 rows x 13 columns]"
      ]
     },
     "execution_count": 52,
     "metadata": {},
     "output_type": "execute_result"
    }
   ],
   "source": [
    "ohdf['cardio'] = y\n",
    "ohdf"
   ]
  },
  {
   "cell_type": "markdown",
   "metadata": {},
   "source": [
    "## 10-fold cross validation\n",
    "- due to computation time only 5000 rows are sampled\n",
    "- test and train set size will be 0.3:0.7\n",
    "- 10 fold cross validation will be done on the train set"
   ]
  },
  {
   "cell_type": "code",
   "execution_count": 53,
   "metadata": {},
   "outputs": [],
   "source": [
    "#df is sampled to reduce computation time\n",
    "sdf = ohdf.sample(5000, random_state=4)"
   ]
  },
  {
   "cell_type": "code",
   "execution_count": 54,
   "metadata": {},
   "outputs": [
    {
     "data": {
      "text/plain": [
       "0    2534\n",
       "1    2466\n",
       "Name: cardio, dtype: int64"
      ]
     },
     "execution_count": 54,
     "metadata": {},
     "output_type": "execute_result"
    }
   ],
   "source": [
    "sdf.cardio.value_counts() #target variable is roughly balanced"
   ]
  },
  {
   "cell_type": "markdown",
   "metadata": {},
   "source": [
    "## 10-fold cross validation: Kernel comparison\n",
    "- split training/test set \n",
    "- 10 fold validation only on training set\n",
    "- testing kernel hyperparameters\n",
    "- test set is held out until final model evaluation"
   ]
  },
  {
   "cell_type": "code",
   "execution_count": 55,
   "metadata": {},
   "outputs": [],
   "source": [
    "from sklearn.model_selection import train_test_split, KFold, cross_val_score\n",
    "from sklearn.svm import SVC\n",
    "from scipy.stats import friedmanchisquare"
   ]
  },
  {
   "cell_type": "code",
   "execution_count": 56,
   "metadata": {},
   "outputs": [],
   "source": [
    "#slightly smaller test_size to accomodate larger validation set for hyperparameter tuning\n",
    "train_set, test_set = train_test_split(sdf, test_size=0.2, random_state=0)"
   ]
  },
  {
   "cell_type": "code",
   "execution_count": 57,
   "metadata": {},
   "outputs": [],
   "source": [
    "#10 fold validation\n",
    "kf = KFold(n_splits=10, shuffle=True, random_state=0)"
   ]
  },
  {
   "cell_type": "code",
   "execution_count": 98,
   "metadata": {},
   "outputs": [],
   "source": [
    "def cv(train_X, train_y, kernels = ['rbf', 'linear', 'poly'], metric = ['accuracy','precision','recall','roc_auc']):\n",
    "    kf = KFold(n_splits=10, shuffle=True, random_state=0)\n",
    "    scores = {}\n",
    "    for m in metric:\n",
    "        for k in kernels:\n",
    "            svm_model = SVC(kernel = k)\n",
    "            scores[k] = list(cross_val_score(svm_model, train_X, train_y, scoring=m, cv=kf))\n",
    "            \n",
    "        print(\"10-Fold CV average: \", m, '\\n')\n",
    "        for x in scores: \n",
    "            print(f'{x}: {np.mean(scores.get(x)):.3f}')\n",
    "        \n",
    "        stat, p = friedmanchisquare(scores['rbf'], scores['linear'], scores['poly'])\n",
    "        print('\\n','p-value:', p,'\\n')"
   ]
  },
  {
   "cell_type": "code",
   "execution_count": 99,
   "metadata": {},
   "outputs": [
    {
     "name": "stdout",
     "output_type": "stream",
     "text": [
      "10-Fold CV average:  accuracy \n",
      "\n",
      "rbf: 0.713\n",
      "linear: 0.720\n",
      "poly: 0.715\n",
      "\n",
      " p-value: 0.3225236063732963 \n",
      "\n",
      "10-Fold CV average:  precision \n",
      "\n",
      "rbf: 0.768\n",
      "linear: 0.767\n",
      "poly: 0.779\n",
      "\n",
      " p-value: 0.024723526470339326 \n",
      "\n",
      "10-Fold CV average:  recall \n",
      "\n",
      "rbf: 0.598\n",
      "linear: 0.621\n",
      "poly: 0.587\n",
      "\n",
      " p-value: 0.00030353913807886407 \n",
      "\n",
      "10-Fold CV average:  roc_auc \n",
      "\n",
      "rbf: 0.778\n",
      "linear: 0.789\n",
      "poly: 0.780\n",
      "\n",
      " p-value: 0.003345965457471265 \n",
      "\n"
     ]
    }
   ],
   "source": [
    "y = train_set.cardio\n",
    "X = train_set[train_set.columns.difference(['cardio'])]\n",
    "\n",
    "cv(X, y)\n",
    "#friedman test compares the results for each metric"
   ]
  },
  {
   "cell_type": "markdown",
   "metadata": {},
   "source": [
    "friedman test p value shows that results for each is significant except for accuracy. This is to say that at least one distribution is truly different from the others in precision, recall and roc_auc.\n",
    "\n",
    "For this case, in diagnoses of a disease it may be beneficial to focus on recall and auROC for true positive classification.\n",
    "Therefore, linear kernel looks to be the most useful in this case."
   ]
  },
  {
   "cell_type": "markdown",
   "metadata": {},
   "source": [
    "## SVM Model"
   ]
  },
  {
   "cell_type": "code",
   "execution_count": 108,
   "metadata": {},
   "outputs": [],
   "source": [
    "from sklearn.metrics import classification_report, roc_auc_score"
   ]
  },
  {
   "cell_type": "code",
   "execution_count": 102,
   "metadata": {},
   "outputs": [],
   "source": [
    "def modeltest(X, y, X_test, y_test, kernels = ['rbf','linear','poly']):\n",
    "    #for k in kernels:\n",
    "    svm_es = SVC(kernel = 'linear')\n",
    "    model = svm_es.fit(X, y) #fitting on train_set\n",
    "    ypred = model.predict(X_test) #evaluate on test set\n",
    "    print(\"Kernel:\",'linear')\n",
    "    print(classification_report(y_test, ypred))\n",
    "    print(\"auROC score:\", round(roc_auc_score(y_test, ypred),3),'\\n')"
   ]
  },
  {
   "cell_type": "code",
   "execution_count": 103,
   "metadata": {},
   "outputs": [
    {
     "name": "stdout",
     "output_type": "stream",
     "text": [
      "Kernel: linear\n",
      "              precision    recall  f1-score   support\n",
      "\n",
      "           0       0.69      0.83      0.75       502\n",
      "           1       0.78      0.63      0.70       498\n",
      "\n",
      "    accuracy                           0.73      1000\n",
      "   macro avg       0.74      0.73      0.73      1000\n",
      "weighted avg       0.74      0.73      0.73      1000\n",
      "\n",
      "auROC score: 0.728 \n",
      "\n"
     ]
    }
   ],
   "source": [
    "y_test = test_set.cardio\n",
    "X_test = test_set[test_set.columns.difference(['cardio'])]\n",
    "modeltest(X, y, X_test, y_test)"
   ]
  },
  {
   "cell_type": "markdown",
   "metadata": {},
   "source": [
    "- a higher overall performance compared to RF or LR"
   ]
  },
  {
   "cell_type": "markdown",
   "metadata": {},
   "source": [
    "## Parameter tuning using GridSearchCV\n",
    "- experimenting with new tools \n",
    "- tune hyperparameters of SVM; C, gamma (for rbf) and degree (for polynomial kernel)\n",
    "- GridSearchCV is an exhaustive algorithm, thus very time consuming"
   ]
  },
  {
   "cell_type": "code",
   "execution_count": 71,
   "metadata": {},
   "outputs": [],
   "source": [
    "from sklearn.model_selection import GridSearchCV"
   ]
  },
  {
   "cell_type": "code",
   "execution_count": 72,
   "metadata": {},
   "outputs": [],
   "source": [
    "gscvset = ohdf.sample(1000, random_state=0) #the original dataframe is sampled due to computation time"
   ]
  },
  {
   "cell_type": "code",
   "execution_count": 73,
   "metadata": {},
   "outputs": [
    {
     "data": {
      "text/plain": [
       "0    506\n",
       "1    494\n",
       "Name: cardio, dtype: int64"
      ]
     },
     "execution_count": 73,
     "metadata": {},
     "output_type": "execute_result"
    }
   ],
   "source": [
    "gscvset.cardio.value_counts() #cardio distribution is still balanced"
   ]
  },
  {
   "cell_type": "code",
   "execution_count": 74,
   "metadata": {},
   "outputs": [],
   "source": [
    "y = gscvset.cardio\n",
    "X = gscvset[gscvset.columns.difference(['cardio'])]"
   ]
  },
  {
   "cell_type": "code",
   "execution_count": 75,
   "metadata": {},
   "outputs": [],
   "source": [
    "X_train, X_test, y_train, y_test = train_test_split(X, y, test_size=0.2, random_state=0)\n",
    "#10 fold cross validation using gridsearchcv is very time consuming, regular train test split used instead"
   ]
  },
  {
   "cell_type": "markdown",
   "metadata": {},
   "source": [
    "GridSearchCV takes a very long time to compute, so a subset of the data will be used, and ROC will be the main metric"
   ]
  },
  {
   "cell_type": "code",
   "execution_count": 76,
   "metadata": {},
   "outputs": [
    {
     "name": "stdout",
     "output_type": "stream",
     "text": [
      "# Tuning hyper-parameters for auRoc\n",
      "\n",
      "\n",
      "Grid scores on development set:\n",
      "\n",
      "0.759 (+/-0.076) for {'C': 1, 'gamma': 0.001, 'kernel': 'rbf'}\n",
      "0.758 (+/-0.062) for {'C': 1, 'gamma': 0.0001, 'kernel': 'rbf'}\n",
      "0.747 (+/-0.078) for {'C': 10, 'gamma': 0.001, 'kernel': 'rbf'}\n",
      "0.761 (+/-0.074) for {'C': 10, 'gamma': 0.0001, 'kernel': 'rbf'}\n",
      "0.715 (+/-0.078) for {'C': 100, 'gamma': 0.001, 'kernel': 'rbf'}\n",
      "0.765 (+/-0.077) for {'C': 100, 'gamma': 0.0001, 'kernel': 'rbf'}\n",
      "0.669 (+/-0.052) for {'C': 1000, 'gamma': 0.001, 'kernel': 'rbf'}\n",
      "0.752 (+/-0.082) for {'C': 1000, 'gamma': 0.0001, 'kernel': 'rbf'}\n",
      "0.764 (+/-0.081) for {'C': 1, 'kernel': 'linear'}\n",
      "0.764 (+/-0.083) for {'C': 10, 'kernel': 'linear'}\n",
      "0.764 (+/-0.084) for {'C': 100, 'kernel': 'linear'}\n",
      "0.764 (+/-0.084) for {'C': 1000, 'kernel': 'linear'}\n",
      "0.754 (+/-0.043) for {'C': 1, 'degree': 1, 'kernel': 'poly'}\n",
      "0.759 (+/-0.061) for {'C': 1, 'degree': 2, 'kernel': 'poly'}\n",
      "0.759 (+/-0.065) for {'C': 1, 'degree': 3, 'kernel': 'poly'}\n",
      "0.759 (+/-0.068) for {'C': 1, 'degree': 4, 'kernel': 'poly'}\n",
      "0.759 (+/-0.068) for {'C': 1, 'degree': 5, 'kernel': 'poly'}\n",
      "0.759 (+/-0.067) for {'C': 1, 'degree': 6, 'kernel': 'poly'}\n",
      "0.757 (+/-0.063) for {'C': 10, 'degree': 1, 'kernel': 'poly'}\n",
      "0.760 (+/-0.068) for {'C': 10, 'degree': 2, 'kernel': 'poly'}\n",
      "0.760 (+/-0.073) for {'C': 10, 'degree': 3, 'kernel': 'poly'}\n",
      "0.760 (+/-0.075) for {'C': 10, 'degree': 4, 'kernel': 'poly'}\n",
      "0.762 (+/-0.076) for {'C': 10, 'degree': 5, 'kernel': 'poly'}\n",
      "0.761 (+/-0.073) for {'C': 10, 'degree': 6, 'kernel': 'poly'}\n",
      "0.761 (+/-0.071) for {'C': 100, 'degree': 1, 'kernel': 'poly'}\n",
      "0.763 (+/-0.078) for {'C': 100, 'degree': 2, 'kernel': 'poly'}\n",
      "0.764 (+/-0.084) for {'C': 100, 'degree': 3, 'kernel': 'poly'}\n",
      "0.765 (+/-0.080) for {'C': 100, 'degree': 4, 'kernel': 'poly'}\n",
      "0.761 (+/-0.073) for {'C': 100, 'degree': 5, 'kernel': 'poly'}\n",
      "0.761 (+/-0.065) for {'C': 100, 'degree': 6, 'kernel': 'poly'}\n",
      "0.764 (+/-0.079) for {'C': 1000, 'degree': 1, 'kernel': 'poly'}\n",
      "0.766 (+/-0.085) for {'C': 1000, 'degree': 2, 'kernel': 'poly'}\n",
      "0.761 (+/-0.081) for {'C': 1000, 'degree': 3, 'kernel': 'poly'}\n",
      "0.759 (+/-0.068) for {'C': 1000, 'degree': 4, 'kernel': 'poly'}\n",
      "0.757 (+/-0.064) for {'C': 1000, 'degree': 5, 'kernel': 'poly'}\n",
      "0.746 (+/-0.053) for {'C': 1000, 'degree': 6, 'kernel': 'poly'}\n",
      "\n",
      "Detailed classification report:\n",
      "\n",
      "The model is trained on the full development set.\n",
      "The scores are computed on the full evaluation set.\n",
      "\n",
      "ROC AUC: 0.730\n",
      "\n",
      "              precision    recall  f1-score   support\n",
      "\n",
      "           0       0.75      0.77      0.76       111\n",
      "           1       0.71      0.69      0.70        89\n",
      "\n",
      "    accuracy                           0.73       200\n",
      "   macro avg       0.73      0.73      0.73       200\n",
      "weighted avg       0.73      0.73      0.73       200\n",
      "\n",
      "\n",
      "Best parameters set found on development set:\n",
      "\n",
      "{'C': 1000, 'degree': 2, 'kernel': 'poly'}\n"
     ]
    }
   ],
   "source": [
    "#very long computation time, but a useful tool \n",
    "tuned_parameters = [{'kernel': ['rbf'], 'gamma': [1e-3, 1e-4], 'C' : [1, 10, 100, 1000]}, \n",
    "                    {'kernel': ['linear'], 'C':[1, 10, 100, 1000]},\n",
    "                    {'kernel': ['poly'], 'degree':[1, 2, 3, 4, 5, 6], 'C':[1, 10, 100, 1000]}]\n",
    "#scores = ['precision','recall']\n",
    "\n",
    "print(\"# Tuning hyper-parameters for auRoc\")\n",
    "print()\n",
    "\n",
    "clf = GridSearchCV(\n",
    "    SVC(), tuned_parameters, scoring='roc_auc'\n",
    ")\n",
    "clf.fit(X_train, y_train)\n",
    "\n",
    "print()\n",
    "print(\"Grid scores on development set:\")\n",
    "print()\n",
    "means = clf.cv_results_['mean_test_score']\n",
    "stds = clf.cv_results_['std_test_score']\n",
    "for mean, std, params in zip(means, stds, clf.cv_results_['params']):\n",
    "    print(\"%0.3f (+/-%0.03f) for %r\"\n",
    "          % (mean, std * 2, params))\n",
    "print()\n",
    "\n",
    "print(\"Detailed classification report:\")\n",
    "print()\n",
    "print(\"The model is trained on the full development set.\")\n",
    "print(\"The scores are computed on the full evaluation set.\")\n",
    "print()\n",
    "y_true, y_pred = y_test, clf.predict(X_test)\n",
    "print(f'ROC AUC: {roc_auc_score(y_true, y_pred):.3f}\\n')\n",
    "print(classification_report(y_true, y_pred))\n",
    "print()\n",
    "print(\"Best parameters set found on development set:\")\n",
    "print()\n",
    "print(clf.best_params_)"
   ]
  },
  {
   "cell_type": "code",
   "execution_count": 77,
   "metadata": {},
   "outputs": [
    {
     "name": "stdout",
     "output_type": "stream",
     "text": [
      "Best parameters chosen by GSCV: {'C': 1000, 'degree': 2, 'kernel': 'poly'}\n"
     ]
    }
   ],
   "source": [
    "print('Best parameters chosen by GSCV:', clf.best_params_)"
   ]
  },
  {
   "cell_type": "markdown",
   "metadata": {},
   "source": [
    "## Friedman on 3 base models and GSCV optimized model\n",
    "- base model vs parameter-tuned model by GridsearchCV\n",
    "- 4 models, same folds used, nonparametric\n",
    "- comparison on auROC score"
   ]
  },
  {
   "cell_type": "code",
   "execution_count": 78,
   "metadata": {},
   "outputs": [],
   "source": [
    "y = train_set.cardio\n",
    "X = train_set[train_set.columns.difference(['cardio'])]"
   ]
  },
  {
   "cell_type": "code",
   "execution_count": 79,
   "metadata": {},
   "outputs": [],
   "source": [
    "svm_rbf = SVC(kernel = 'rbf') #base model\n",
    "svm_lin = SVC(kernel = 'linear')\n",
    "svm_poly = SVC(kernel = 'poly')\n",
    "svm_new = SVC(kernel = clf.best_params_['kernel'], C=clf.best_params_['C'], degree=clf.best_params_['degree']) #best parameters for ROC from GSCV\n",
    "\n",
    "kf = KFold(n_splits=10, shuffle = True, random_state=0)\n",
    "k_rbf = cross_val_score(svm_rbf, X, y, scoring='roc_auc', cv=kf)\n",
    "k_lin = cross_val_score(svm_lin, X, y, scoring='roc_auc', cv=kf)\n",
    "k_poly = cross_val_score(svm_poly, X, y, scoring='roc_auc', cv=kf)\n",
    "k_new = cross_val_score(svm_new, X, y, scoring='roc_auc', cv=kf)"
   ]
  },
  {
   "cell_type": "code",
   "execution_count": 82,
   "metadata": {},
   "outputs": [
    {
     "name": "stdout",
     "output_type": "stream",
     "text": [
      "average auROC\n",
      "rbf: 0.7782925086488198\n",
      "lin: 0.7885717492734148\n",
      "poly: 0.7795824994602177\n",
      "GSCV: 0.7910909670932332\n"
     ]
    }
   ],
   "source": [
    "print(\"average auROC\")\n",
    "print('rbf:', np.mean(k_rbf))\n",
    "print('lin:', np.mean(k_lin))\n",
    "print('poly:', np.mean(k_poly))\n",
    "print('GSCV:', np.mean(k_new))"
   ]
  },
  {
   "cell_type": "code",
   "execution_count": 84,
   "metadata": {},
   "outputs": [],
   "source": [
    "from scipy.stats import friedmanchisquare"
   ]
  },
  {
   "cell_type": "code",
   "execution_count": 85,
   "metadata": {},
   "outputs": [
    {
     "name": "stdout",
     "output_type": "stream",
     "text": [
      "reject null hypothesis\n"
     ]
    }
   ],
   "source": [
    "stat, p = friedmanchisquare(k_rbf, k_lin, k_poly, k_new)\n",
    "print('cannot reject null hypothesis') if p > 0.05 else print('reject null hypothesis')"
   ]
  },
  {
   "cell_type": "markdown",
   "metadata": {},
   "source": [
    "We are able to reject the null hypothesis for these samples, meaning there is a difference in distribution between at least one model."
   ]
  },
  {
   "cell_type": "markdown",
   "metadata": {},
   "source": [
    "## Wilcoxon test"
   ]
  },
  {
   "cell_type": "code",
   "execution_count": 86,
   "metadata": {},
   "outputs": [],
   "source": [
    "from scipy.stats import wilcoxon"
   ]
  },
  {
   "cell_type": "code",
   "execution_count": 104,
   "metadata": {},
   "outputs": [
    {
     "name": "stdout",
     "output_type": "stream",
     "text": [
      "cannot reject null hypothesis\n"
     ]
    }
   ],
   "source": [
    "stat, p = wilcoxon(k_lin, k_new)\n",
    "print('cannot reject null hypothesis') if p > 0.05 else print('reject null hypothesis')"
   ]
  },
  {
   "cell_type": "code",
   "execution_count": 105,
   "metadata": {},
   "outputs": [
    {
     "name": "stdout",
     "output_type": "stream",
     "text": [
      "reject null hypothesis\n"
     ]
    }
   ],
   "source": [
    "stat, p = wilcoxon(k_rbf, k_new)\n",
    "print('cannot reject null hypothesis') if p > 0.05 else print('reject null hypothesis')"
   ]
  },
  {
   "cell_type": "code",
   "execution_count": 106,
   "metadata": {},
   "outputs": [
    {
     "name": "stdout",
     "output_type": "stream",
     "text": [
      "reject null hypothesis\n"
     ]
    }
   ],
   "source": [
    "stat, p = wilcoxon(k_poly, k_new)\n",
    "print('cannot reject null hypothesis') if p > 0.05 else print('reject null hypothesis')"
   ]
  },
  {
   "cell_type": "markdown",
   "metadata": {},
   "source": [
    "the new GSCV model difference in mean between the other models is statistically significant except for the base linear model. The base linear model and the new parameter optimized model are similar and it cannot be concluded from this which is better."
   ]
  },
  {
   "cell_type": "markdown",
   "metadata": {},
   "source": [
    "## SVM using GSCV hyperparameter optimizated model"
   ]
  },
  {
   "cell_type": "code",
   "execution_count": 107,
   "metadata": {},
   "outputs": [
    {
     "name": "stdout",
     "output_type": "stream",
     "text": [
      "ROC AUC score: 0.7267116273860382\n",
      "              precision    recall  f1-score   support\n",
      "\n",
      "           0       0.70      0.80      0.75       502\n",
      "           1       0.76      0.65      0.70       498\n",
      "\n",
      "    accuracy                           0.73      1000\n",
      "   macro avg       0.73      0.73      0.73      1000\n",
      "weighted avg       0.73      0.73      0.73      1000\n",
      "\n"
     ]
    }
   ],
   "source": [
    "y_train = train_set.cardio\n",
    "X_train = train_set[train_set.columns.difference(['cardio'])]\n",
    "y_test = test_set.cardio\n",
    "X_test = test_set[test_set.columns.difference(['cardio'])]\n",
    "\n",
    "fmodel = svm_new.fit(X_train, y_train)\n",
    "ypred = fmodel.predict(X_test)\n",
    "print(\"ROC AUC score:\", roc_auc_score(y_test, ypred))\n",
    "print(classification_report(y_test, ypred))"
   ]
  },
  {
   "cell_type": "markdown",
   "metadata": {},
   "source": [
    "## Conclusions\n",
    "- Cholesterol level, age, and weight are the most significant factors to cardiovascular disease\n",
    "- drinking, smoking, glucose also have some weaker effect, but are more dangerous when in combination"
   ]
  }
 ],
 "metadata": {
  "kernelspec": {
   "display_name": "Python 3",
   "language": "python",
   "name": "python3"
  },
  "language_info": {
   "codemirror_mode": {
    "name": "ipython",
    "version": 3
   },
   "file_extension": ".py",
   "mimetype": "text/x-python",
   "name": "python",
   "nbconvert_exporter": "python",
   "pygments_lexer": "ipython3",
   "version": "3.7.6"
  }
 },
 "nbformat": 4,
 "nbformat_minor": 4
}
